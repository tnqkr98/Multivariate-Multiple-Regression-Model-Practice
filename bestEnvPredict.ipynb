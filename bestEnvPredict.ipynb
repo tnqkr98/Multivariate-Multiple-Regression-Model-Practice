{
 "cells": [
  {
   "cell_type": "code",
   "execution_count": 111,
   "metadata": {},
   "outputs": [],
   "source": [
    "import pandas as pd\n",
    "import plotly.express as px\n",
    "import matplotlib.pyplot as plt\n",
    "import seaborn as sns\n",
    "import numpy as np\n",
    "from sklearn.datasets import load_iris\n",
    "from sklearn.datasets import make_regression\n",
    "from sklearn.model_selection import train_test_split\n",
    "from sklearn.model_selection import RepeatedKFold\n",
    "from sklearn.model_selection import cross_val_score\n",
    "from sklearn.metrics import mean_squared_error, mean_absolute_error, r2_score\n",
    "from sklearn.ensemble import RandomForestRegressor\n",
    "from sklearn.svm import LinearSVR\n",
    "from sklearn.linear_model import LinearRegression\n",
    "from sklearn.neighbors import KNeighborsRegressor\n",
    "from sklearn.tree import DecisionTreeRegressor\n",
    "from sklearn.multioutput import MultiOutputRegressor\n",
    "from sklearn.multioutput import RegressorChain\n",
    "from sklearn.ensemble import GradientBoostingRegressor\n",
    "from sklearn.preprocessing import StandardScaler\n",
    "from sklearn.preprocessing import MinMaxScaler\n",
    "from xgboost import XGBRegressor\n",
    "from lightgbm import LGBMRegressor\n",
    "# from bayes_opt import BayesianOptimization\n",
    "import shap\n"
   ]
  },
  {
   "cell_type": "code",
   "execution_count": 86,
   "metadata": {},
   "outputs": [
    {
     "name": "stdout",
     "output_type": "stream",
     "text": [
      "<class 'pandas.core.frame.DataFrame'>\n",
      "RangeIndex: 14733 entries, 0 to 14732\n",
      "Data columns (total 22 columns):\n",
      " #   Column      Non-Null Count  Dtype  \n",
      "---  ------      --------------  -----  \n",
      " 0   Unnamed: 0  14733 non-null  int64  \n",
      " 1   co2         14733 non-null  int64  \n",
      " 2   temp        14733 non-null  float64\n",
      " 3   humid       14733 non-null  float64\n",
      " 4   csd         14733 non-null  int64  \n",
      " 5   sound       14733 non-null  int64  \n",
      " 6   time        14733 non-null  int64  \n",
      " 7   state       14733 non-null  object \n",
      " 8   age         14733 non-null  int64  \n",
      " 9   gender      14733 non-null  object \n",
      " 10  height      14733 non-null  int64  \n",
      " 11  weight      14733 non-null  int64  \n",
      " 12  disease     14733 non-null  object \n",
      " 13  depressive  14733 non-null  int64  \n",
      " 14  disorder    14733 non-null  object \n",
      " 15  media       14733 non-null  int64  \n",
      " 16  liquor      14733 non-null  int64  \n",
      " 17  smoke       14733 non-null  int64  \n",
      " 18  caffeine    14733 non-null  int64  \n",
      " 19  exercise    14733 non-null  int64  \n",
      " 20  stress      14733 non-null  int64  \n",
      " 21  nap         14733 non-null  int64  \n",
      "dtypes: float64(2), int64(16), object(4)\n",
      "memory usage: 2.5+ MB\n",
      "None\n"
     ]
    }
   ],
   "source": [
    "sample_data = pd.read_csv(\"sample.csv\")\n",
    "print(sample_data.info(verbose=True, show_counts=True))"
   ]
  },
  {
   "cell_type": "code",
   "execution_count": 35,
   "metadata": {},
   "outputs": [
    {
     "name": "stdout",
     "output_type": "stream",
     "text": [
      "11964/14733 data points remain.\n"
     ]
    }
   ],
   "source": [
    "sample_data = remove_outliers(sample_data, \"co2\", 0.1, 0.9)\n",
    "sample_data = pd.get_dummies(sample_data)                       # Embedding\n",
    "\n",
    "# Train - Test Split\n",
    "x_data = sample_data.iloc[:, 6:]\n",
    "y_data = sample_data.iloc[:, [1, 2, 3, 4, 5]]\n",
    "train_x, valid_x, train_y, valid_y = train_test_split(x_data, y_data, test_size=0.2, shuffle=True, random_state=1)"
   ]
  },
  {
   "cell_type": "code",
   "execution_count": 52,
   "metadata": {},
   "outputs": [],
   "source": [
    "def remove_outliers(df, column_name, lower, upper):\n",
    "    removed_outliers = df[column_name].between(df[column_name].quantile(lower), df[column_name].quantile(upper))\n",
    "\n",
    "    print(str(df[column_name][removed_outliers].size) + \"/\" + str(sample_data[column_name].size) + \" data points remain.\")\n",
    "\n",
    "    index_names = df[~removed_outliers].index\n",
    "    return df.drop(index_names)\n",
    "\n",
    "\n",
    "def PlotMultiplePie(df, categorical_features=None, dropna=False):\n",
    "    # set a threshold of 30 unique variables, more than 50 can lead to ugly pie charts\n",
    "    threshold = 30\n",
    "\n",
    "    # if user did not set categorical_features\n",
    "    if categorical_features is None:\n",
    "        categorical_features = df.select_dtypes(['object', 'category']).columns.to_list()\n",
    "\n",
    "    print(\"The Categorical Features are:\", categorical_features)\n",
    "\n",
    "    # loop through the list of categorical_features\n",
    "    for cat_feature in categorical_features:\n",
    "        num_unique = df[cat_feature].nunique(dropna=dropna)\n",
    "        num_missing = df[cat_feature].isna().sum()\n",
    "        # prints pie chart and info if unique values below threshold\n",
    "        if num_unique <= threshold:\n",
    "            print('Pie Chart for: ', cat_feature)\n",
    "            print('Number of Unique Values: ', num_unique)\n",
    "            print('Number of Missing Values: ', num_missing)\n",
    "            fig = px.pie(df[cat_feature].value_counts(dropna=dropna), values=cat_feature,\n",
    "                         names=df[cat_feature].value_counts(dropna=dropna).index, title=cat_feature, template='ggplot2')\n",
    "            fig.show()\n",
    "        else:\n",
    "            print('Pie Chart for ', cat_feature, ' is unavailable due high number of Unique Values ')\n",
    "            print('Number of Unique Values: ', num_unique)\n",
    "            print('Number of Missing Values: ', num_missing)\n",
    "            print('\\n')\n",
    "\n",
    "\n",
    "def evaluateRegressor(true, predicted, message=\"    Test Set\"):\n",
    "    MSE = mean_squared_error(true, predicted, squared=True)\n",
    "    MAE = mean_absolute_error(true, predicted)\n",
    "    RMSE = mean_squared_error(true, predicted, squared=False)\n",
    "    R_squared = r2_score(true, predicted)\n",
    "\n",
    "    print(message)\n",
    "    print(\"MSE :\", MSE)\n",
    "    print(\"MAE :\", MAE)\n",
    "    print(\"RMSE :\", RMSE)\n",
    "    print(\"R-Squared :\", R_squared)\n",
    "    \n",
    "    \n",
    "def evaluateKFold(model):\n",
    "    cv = RepeatedKFold(n_splits=5, n_repeats=3, random_state=1)\n",
    "    n_scores = cross_val_score(model, x_data, y_data, scoring='neg_mean_squared_error', cv=cv, n_jobs=-1)\n",
    "    rmse = np.sqrt(-1*n_scores)\n",
    "    print('RMSE: %.3f'%np.mean(rmse))\n",
    "    \n",
    "    \n",
    "def "
   ]
  },
  {
   "cell_type": "code",
   "execution_count": 129,
   "metadata": {},
   "outputs": [
    {
     "name": "stdout",
     "output_type": "stream",
     "text": [
      "11964/14733 data points remain.\n",
      "<class 'pandas.core.frame.DataFrame'>\n",
      "Int64Index: 11964 entries, 233 to 14732\n",
      "Data columns (total 19 columns):\n",
      " #   Column         Non-Null Count  Dtype\n",
      "---  ------         --------------  -----\n",
      " 0   time           11964 non-null  int64\n",
      " 1   age            11964 non-null  int64\n",
      " 2   height         11964 non-null  int64\n",
      " 3   weight         11964 non-null  int64\n",
      " 4   depressive     11964 non-null  int64\n",
      " 5   media          11964 non-null  int64\n",
      " 6   liquor         11964 non-null  int64\n",
      " 7   smoke          11964 non-null  int64\n",
      " 8   caffeine       11964 non-null  int64\n",
      " 9   exercise       11964 non-null  int64\n",
      " 10  stress         11964 non-null  int64\n",
      " 11  nap            11964 non-null  int64\n",
      " 12  state_asleep   11964 non-null  uint8\n",
      " 13  state_awake    11964 non-null  uint8\n",
      " 14  gender_female  11964 non-null  uint8\n",
      " 15  gender_male    11964 non-null  uint8\n",
      " 16  disease_none   11964 non-null  uint8\n",
      " 17  disorder_no    11964 non-null  uint8\n",
      " 18  disorder_yes   11964 non-null  uint8\n",
      "dtypes: int64(12), uint8(7)\n",
      "memory usage: 1.3 MB\n"
     ]
    }
   ],
   "source": [
    "sample_data = pd.read_csv(\"sample.csv\")\n",
    "sample_data = remove_outliers(sample_data, \"co2\", 0.1, 0.9)\n",
    "sample_data = pd.get_dummies(sample_data)                       # Embedding\n",
    "\n",
    "x_data = sample_data.iloc[:, 6:]\n",
    "y_data = sample_data.iloc[:, [1, 2, 3, 4, 5]]\n",
    "x_train, x_test, y_train, y_test = train_test_split(x_data, y_data, test_size=0.1, random_state=42)\n",
    "x_data.info(verbose=True, show_counts=True)\n",
    "\n",
    "sc = StandardScaler()\n",
    "x_train_scaled = sc.fit_transform(x_train)\n",
    "x_test_scaled = sc.transform(x_test)\n",
    "y_train_scaled = sc.fit_transform(y_train)\n",
    "y_test_scaled = sc.transform(y_test)\n",
    "\n",
    "x_train_scaled = np.array(x_train_scaled, dtype=np.float32)\n",
    "y_train_scaled = np.array(y_train_scaled, dtype=np.float32)\n",
    "x_test_scaled = np.array(x_test_scaled, dtype=np.float32)\n",
    "y_test_scaled = np.array(y_test_scaled, dtype=np.float32)\n",
    "\n",
    "inputs = torch.from_numpy(x_train_scaled)\n",
    "targets = torch.from_numpy(y_train_scaled)\n",
    "\n",
    "test_inputs = torch.from_numpy(x_test_scaled)\n",
    "test_targets = torch.from_numpy(y_test_scaled)"
   ]
  },
  {
   "cell_type": "code",
   "execution_count": 130,
   "metadata": {},
   "outputs": [
    {
     "name": "stdout",
     "output_type": "stream",
     "text": [
      "Random Forest Regressor\n",
      "    Training Set\n",
      "MSE : 0.21282695962886905\n",
      "MAE : 0.17481054727271722\n",
      "RMSE : 0.45810987846040235\n",
      "R-Squared : 0.7871730385051497\n",
      "    Test Set\n",
      "MSE : 0.5324825903698143\n",
      "MAE : 0.2874270507676731\n",
      "RMSE : 0.6862615546984424\n",
      "R-Squared : 0.543861072193424\n",
      "    Valid Set\n",
      "MSE : 30640.823163754092\n",
      "MAE : 49.36049442623866\n",
      "RMSE : 82.86436243854753\n",
      "R-Squared : 0.5438610932717622\n"
     ]
    }
   ],
   "source": [
    "print(\"Random Forest Regressor\")\n",
    "RFRegModel = RandomForestRegressor(random_state=0).fit(inputs, targets)\n",
    "predict_train_y = RFRegModel.predict(inputs)\n",
    "evaluateRegressor(targets, predict_train_y, \"    Training Set\")\n",
    "predict_valid_y = RFRegModel.predict(test_inputs)\n",
    "evaluateRegressor(test_targets, predict_valid_y)\n",
    "predict_valid_y = sc.inverse_transform(predict_valid_y)\n",
    "evaluateRegressor(y_test, predict_valid_y,\"    Valid Set\")"
   ]
  },
  {
   "cell_type": "code",
   "execution_count": 131,
   "metadata": {
    "scrolled": true
   },
   "outputs": [
    {
     "name": "stdout",
     "output_type": "stream",
     "text": [
      "Linear Regression\n",
      "    Training Set\n",
      "MSE : 0.7465827\n",
      "MAE : 0.3963996\n",
      "RMSE : 0.85488796\n",
      "R-Squared : 0.25341426251852184\n",
      "    Test Set\n",
      "MSE : 1.1032459\n",
      "MAE : 0.41297412\n",
      "RMSE : 1.0085735\n",
      "R-Squared : 0.2445805607796104\n",
      "    Valid Set\n",
      "MSE : 53098.35658385869\n",
      "MAE : 87.83183923683536\n",
      "RMSE : 109.97615236260947\n",
      "R-Squared : 0.24458057395398886\n"
     ]
    }
   ],
   "source": [
    "print(\"Linear Regression\")\n",
    "LinearModel = LinearRegression().fit(inputs, targets)\n",
    "predict_train_y = LinearModel.predict(inputs)\n",
    "evaluateRegressor(targets, predict_train_y, \"    Training Set\")\n",
    "predict_valid_y = LinearModel.predict(test_inputs)\n",
    "evaluateRegressor(test_targets, predict_valid_y)\n",
    "predict_valid_y = sc.inverse_transform(predict_valid_y)\n",
    "evaluateRegressor(y_test, predict_valid_y,\"    Valid Set\")"
   ]
  },
  {
   "cell_type": "code",
   "execution_count": 133,
   "metadata": {},
   "outputs": [
    {
     "name": "stdout",
     "output_type": "stream",
     "text": [
      "Decision Tree\n",
      "    Training Set\n",
      "MSE : 0.1844346406583246\n",
      "MAE : 0.14337311493214291\n",
      "RMSE : 0.42686504038713535\n",
      "R-Squared : 0.8155653579447601\n",
      "    Test Set\n",
      "MSE : 0.6413739521228625\n",
      "MAE : 0.31504017149974173\n",
      "RMSE : 0.7526414566399733\n",
      "R-Squared : 0.44336268449380345\n",
      "    Valid Set\n",
      "MSE : 38596.23070366688\n",
      "MAE : 55.05880725116339\n",
      "RMSE : 92.91951924263375\n",
      "R-Squared : 0.4433627117138833\n"
     ]
    }
   ],
   "source": [
    "print(\"Decision Tree\")\n",
    "DTModel = DecisionTreeRegressor().fit(inputs, targets)\n",
    "predict_train_y = DTModel.predict(inputs)\n",
    "evaluateRegressor(targets, predict_train_y, \"    Training Set\")\n",
    "predict_valid_y = DTModel.predict(test_inputs)\n",
    "evaluateRegressor(test_targets, predict_valid_y)\n",
    "predict_valid_y = sc.inverse_transform(predict_valid_y)\n",
    "evaluateRegressor(y_test, predict_valid_y,\"    Valid Set\")"
   ]
  },
  {
   "cell_type": "code",
   "execution_count": 134,
   "metadata": {},
   "outputs": [
    {
     "name": "stdout",
     "output_type": "stream",
     "text": [
      "K-Nearest Neighbors\n",
      "    Training Set\n",
      "MSE : 0.3265744\n",
      "MAE : 0.22061\n",
      "RMSE : 0.5609566\n",
      "R-Squared : 0.673424550724245\n",
      "    Test Set\n",
      "MSE : 0.54549974\n",
      "MAE : 0.26752687\n",
      "RMSE : 0.71626014\n",
      "R-Squared : 0.5622341696635311\n",
      "    Valid Set\n",
      "MSE : 22383.92792640093\n",
      "MAE : 42.29160953146603\n",
      "RMSE : 71.84273833729908\n",
      "R-Squared : 0.5622341883403782\n"
     ]
    }
   ],
   "source": [
    "print(\"K-Nearest Neighbors\")\n",
    "KNNModel = KNeighborsRegressor().fit(inputs, targets)\n",
    "predict_train_y = KNNModel.predict(inputs)\n",
    "evaluateRegressor(targets, predict_train_y, \"    Training Set\")\n",
    "predict_valid_y = KNNModel.predict(test_inputs)\n",
    "evaluateRegressor(test_targets, predict_valid_y)\n",
    "predict_valid_y = sc.inverse_transform(predict_valid_y)\n",
    "evaluateRegressor(y_test, predict_valid_y,\"    Valid Set\")"
   ]
  },
  {
   "cell_type": "code",
   "execution_count": 136,
   "metadata": {},
   "outputs": [
    {
     "name": "stdout",
     "output_type": "stream",
     "text": [
      "Support Vector Machine - Direct Multioutput\n",
      "    Training Set\n",
      "MSE : 0.7837528988616091\n",
      "MAE : 0.36431455077677805\n",
      "RMSE : 0.8779997259875788\n",
      "R-Squared : 0.21624709553414484\n",
      "    Test Set\n",
      "MSE : 1.1519434875432242\n",
      "MAE : 0.3790461291792468\n",
      "RMSE : 1.034740184466337\n",
      "R-Squared : 0.20541327801521633\n",
      "    Valid Set\n",
      "MSE : 62484.80885698184\n",
      "MAE : 83.68494066662603\n",
      "RMSE : 118.8481415476241\n",
      "R-Squared : 0.20541332094093398\n"
     ]
    }
   ],
   "source": [
    "print(\"Support Vector Machine - Direct Multioutput\")\n",
    "model = LinearSVR(C=0.1, random_state=1,max_iter=10000000)\n",
    "model = MultiOutputRegressor(model)\n",
    "model.fit(inputs, targets)\n",
    "predict_train_y = model.predict(inputs)\n",
    "evaluateRegressor(targets, predict_train_y, \"    Training Set\")\n",
    "predict_valid_y = model.predict(test_inputs)\n",
    "evaluateRegressor(test_targets, predict_valid_y)\n",
    "predict_valid_y = sc.inverse_transform(predict_valid_y)\n",
    "evaluateRegressor(y_test, predict_valid_y,\"    Valid Set\")"
   ]
  },
  {
   "cell_type": "code",
   "execution_count": 137,
   "metadata": {},
   "outputs": [
    {
     "name": "stdout",
     "output_type": "stream",
     "text": [
      "Support Vector Machine - Chained Multioutput\n",
      "    Training Set\n",
      "MSE : 0.7796906753483435\n",
      "MAE : 0.3700710829137071\n",
      "RMSE : 0.8757549688692958\n",
      "R-Squared : 0.22030931903716602\n",
      "    Test Set\n",
      "MSE : 1.1493596411834028\n",
      "MAE : 0.38566303700126797\n",
      "RMSE : 1.0333806532205085\n",
      "R-Squared : 0.2077046131376465\n",
      "    Valid Set\n",
      "MSE : 62484.52650616178\n",
      "MAE : 83.74716605107486\n",
      "RMSE : 118.83362555424824\n",
      "R-Squared : 0.20770465600389007\n"
     ]
    }
   ],
   "source": [
    "print(\"Support Vector Machine - Chained Multioutput\")\n",
    "model = LinearSVR(C=0.1, random_state=1,max_iter=10000000)\n",
    "model = RegressorChain(model)\n",
    "model.fit(inputs, targets)\n",
    "predict_train_y = model.predict(inputs)\n",
    "evaluateRegressor(targets, predict_train_y, \"    Training Set\")\n",
    "predict_valid_y = model.predict(test_inputs)\n",
    "evaluateRegressor(test_targets, predict_valid_y)\n",
    "predict_valid_y = sc.inverse_transform(predict_valid_y)\n",
    "evaluateRegressor(y_test, predict_valid_y,\"    Valid Set\")"
   ]
  },
  {
   "cell_type": "code",
   "execution_count": 138,
   "metadata": {},
   "outputs": [
    {
     "name": "stdout",
     "output_type": "stream",
     "text": [
      "11964/14733 data points remain.\n",
      "<class 'pandas.core.frame.DataFrame'>\n",
      "Int64Index: 11964 entries, 233 to 14732\n",
      "Data columns (total 19 columns):\n",
      " #   Column         Non-Null Count  Dtype\n",
      "---  ------         --------------  -----\n",
      " 0   time           11964 non-null  int64\n",
      " 1   age            11964 non-null  int64\n",
      " 2   height         11964 non-null  int64\n",
      " 3   weight         11964 non-null  int64\n",
      " 4   depressive     11964 non-null  int64\n",
      " 5   media          11964 non-null  int64\n",
      " 6   liquor         11964 non-null  int64\n",
      " 7   smoke          11964 non-null  int64\n",
      " 8   caffeine       11964 non-null  int64\n",
      " 9   exercise       11964 non-null  int64\n",
      " 10  stress         11964 non-null  int64\n",
      " 11  nap            11964 non-null  int64\n",
      " 12  state_asleep   11964 non-null  uint8\n",
      " 13  state_awake    11964 non-null  uint8\n",
      " 14  gender_female  11964 non-null  uint8\n",
      " 15  gender_male    11964 non-null  uint8\n",
      " 16  disease_none   11964 non-null  uint8\n",
      " 17  disorder_no    11964 non-null  uint8\n",
      " 18  disorder_yes   11964 non-null  uint8\n",
      "dtypes: int64(12), uint8(7)\n",
      "memory usage: 1.3 MB\n"
     ]
    }
   ],
   "source": [
    "sample_data = pd.read_csv(\"sample.csv\")\n",
    "sample_data = remove_outliers(sample_data, \"co2\", 0.1, 0.9)\n",
    "sample_data = pd.get_dummies(sample_data)                       # Embedding\n",
    "\n",
    "x_data = sample_data.iloc[:, 6:]\n",
    "y_data = sample_data.iloc[:, [1, 2, 3, 4, 5]]\n",
    "x_train, x_test, y_train, y_test = train_test_split(x_data, y_data, test_size=0.1, random_state=42)\n",
    "x_data.info(verbose=True, show_counts=True)\n",
    "\n",
    "sc = MinMaxScaler()\n",
    "x_train_scaled = sc.fit_transform(x_train)\n",
    "x_test_scaled = sc.transform(x_test)\n",
    "y_train_scaled = sc.fit_transform(y_train)\n",
    "y_test_scaled = sc.transform(y_test)\n",
    "\n",
    "x_train_scaled = np.array(x_train_scaled, dtype=np.float32)\n",
    "y_train_scaled = np.array(y_train_scaled, dtype=np.float32)\n",
    "x_test_scaled = np.array(x_test_scaled, dtype=np.float32)\n",
    "y_test_scaled = np.array(y_test_scaled, dtype=np.float32)\n",
    "\n",
    "inputs = torch.from_numpy(x_train_scaled)\n",
    "targets = torch.from_numpy(y_train_scaled)\n",
    "\n",
    "test_inputs = torch.from_numpy(x_test_scaled)\n",
    "test_targets = torch.from_numpy(y_test_scaled)"
   ]
  },
  {
   "cell_type": "code",
   "execution_count": 113,
   "metadata": {},
   "outputs": [
    {
     "name": "stdout",
     "output_type": "stream",
     "text": [
      "Linear Regression\n",
      "    Training Set\n",
      "MSE : 0.019822303\n",
      "MAE : 0.0790712\n",
      "RMSE : 0.12488464\n",
      "R-Squared : 0.2533967113057486\n",
      "    Test Set\n",
      "MSE : 0.021200707\n",
      "MAE : 0.08029294\n",
      "RMSE : 0.13335395\n",
      "R-Squared : 0.24416215362859636\n"
     ]
    }
   ],
   "source": [
    "print(\"Linear Regression\")\n",
    "LinearModel = LinearRegression().fit(inputs, targets)\n",
    "predict_train_y = LinearModel.predict(inputs)\n",
    "evaluateRegressor(targets, predict_train_y, \"    Training Set\")\n",
    "predict_valid_y = LinearModel.predict(test_inputs)\n",
    "evaluateRegressor(test_targets, predict_valid_y)"
   ]
  },
  {
   "cell_type": "code",
   "execution_count": 114,
   "metadata": {},
   "outputs": [
    {
     "name": "stdout",
     "output_type": "stream",
     "text": [
      "Decision Tree\n",
      "    Training Set\n",
      "MSE : 0.005396248611602863\n",
      "MAE : 0.028314099432858324\n",
      "RMSE : 0.06452840056054732\n",
      "R-Squared : 0.8155653493613697\n",
      "    Test Set\n",
      "MSE : 0.02309544121435432\n",
      "MAE : 0.06484064444410063\n",
      "RMSE : 0.12830083910558016\n",
      "R-Squared : 0.44575200184624447\n"
     ]
    }
   ],
   "source": [
    "print(\"Decision Tree\")\n",
    "DTModel = DecisionTreeRegressor().fit(inputs, targets)\n",
    "predict_train_y = DTModel.predict(inputs)\n",
    "evaluateRegressor(targets, predict_train_y, \"    Training Set\")\n",
    "predict_valid_y = DTModel.predict(test_inputs)\n",
    "evaluateRegressor(test_targets, predict_valid_y)"
   ]
  },
  {
   "cell_type": "code",
   "execution_count": 116,
   "metadata": {},
   "outputs": [
    {
     "name": "stdout",
     "output_type": "stream",
     "text": [
      "K-Nearest Neighbors\n",
      "    Training Set\n",
      "MSE : 0.00995218\n",
      "MAE : 0.044617157\n",
      "RMSE : 0.08639766\n",
      "R-Squared : 0.6739333354876149\n",
      "    Test Set\n",
      "MSE : 0.015262583\n",
      "MAE : 0.053751815\n",
      "RMSE : 0.105503485\n",
      "R-Squared : 0.5924820974157642\n"
     ]
    }
   ],
   "source": [
    "print(\"K-Nearest Neighbors\")\n",
    "KNNModel = KNeighborsRegressor().fit(inputs, targets)\n",
    "predict_train_y = KNNModel.predict(inputs)\n",
    "evaluateRegressor(targets, predict_train_y, \"    Training Set\")\n",
    "predict_valid_y = KNNModel.predict(test_inputs)\n",
    "evaluateRegressor(test_targets, predict_valid_y)"
   ]
  },
  {
   "cell_type": "code",
   "execution_count": null,
   "metadata": {},
   "outputs": [],
   "source": []
  }
 ],
 "metadata": {
  "kernelspec": {
   "display_name": "Python 3",
   "language": "python",
   "name": "python3"
  },
  "language_info": {
   "codemirror_mode": {
    "name": "ipython",
    "version": 3
   },
   "file_extension": ".py",
   "mimetype": "text/x-python",
   "name": "python",
   "nbconvert_exporter": "python",
   "pygments_lexer": "ipython3",
   "version": "3.7.9"
  }
 },
 "nbformat": 4,
 "nbformat_minor": 4
}
