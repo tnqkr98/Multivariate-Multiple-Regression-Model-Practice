{
 "cells": [
  {
   "cell_type": "code",
   "execution_count": 15,
   "metadata": {},
   "outputs": [],
   "source": [
    "import pandas as pd\n",
    "import plotly.express as px\n",
    "import matplotlib.pyplot as plt\n",
    "import seaborn as sns\n",
    "from sklearn.datasets import load_iris\n",
    "from sklearn.model_selection import train_test_split\n",
    "from sklearn.metrics import mean_squared_error, mean_absolute_error, r2_score\n",
    "from sklearn.ensemble import RandomForestRegressor\n",
    "from sklearn import svm\n",
    "from sklearn.linear_model import LinearRegression\n",
    "from sklearn.neighbors import KNeighborsRegressor\n",
    "from sklearn.tree import DecisionTreeRegressor\n",
    "# from bayes_opt import BayesianOptimization\n",
    "import shap\n"
   ]
  },
  {
   "cell_type": "code",
   "execution_count": 4,
   "metadata": {},
   "outputs": [
    {
     "name": "stdout",
     "output_type": "stream",
     "text": [
      "<class 'pandas.core.frame.DataFrame'>\n",
      "RangeIndex: 14733 entries, 0 to 14732\n",
      "Data columns (total 22 columns):\n",
      " #   Column      Non-Null Count  Dtype  \n",
      "---  ------      --------------  -----  \n",
      " 0   Unnamed: 0  14733 non-null  int64  \n",
      " 1   co2         14733 non-null  int64  \n",
      " 2   temp        14733 non-null  float64\n",
      " 3   humid       14733 non-null  float64\n",
      " 4   csd         14733 non-null  int64  \n",
      " 5   sound       14733 non-null  int64  \n",
      " 6   time        14733 non-null  int64  \n",
      " 7   state       14733 non-null  object \n",
      " 8   age         14733 non-null  int64  \n",
      " 9   gender      14733 non-null  object \n",
      " 10  height      14733 non-null  int64  \n",
      " 11  weight      14733 non-null  int64  \n",
      " 12  disease     14733 non-null  int64  \n",
      " 13  depressive  14733 non-null  int64  \n",
      " 14  disorder    14733 non-null  object \n",
      " 15  media       14733 non-null  int64  \n",
      " 16  liquor      14733 non-null  int64  \n",
      " 17  smoke       14733 non-null  int64  \n",
      " 18  caffeine    14733 non-null  int64  \n",
      " 19  exercise    14733 non-null  int64  \n",
      " 20  stress      14733 non-null  int64  \n",
      " 21  nap         14733 non-null  int64  \n",
      "dtypes: float64(2), int64(17), object(3)\n",
      "memory usage: 2.5+ MB\n",
      "None\n"
     ]
    }
   ],
   "source": [
    "sample_data = pd.read_csv(\"sample.csv\")\n",
    "print(sample_data.info(verbose=True, show_counts=True))"
   ]
  },
  {
   "cell_type": "code",
   "execution_count": 5,
   "metadata": {},
   "outputs": [],
   "source": [
    "def remove_outliers(df, column_name, lower, upper):\n",
    "    removed_outliers = df[column_name].between(df[column_name].quantile(lower), df[column_name].quantile(upper))\n",
    "\n",
    "    print(str(df[column_name][removed_outliers].size) + \"/\" + str(sample_data[column_name].size) + \" data points remain.\")\n",
    "\n",
    "    index_names = df[~removed_outliers].index\n",
    "    return df.drop(index_names)\n",
    "\n",
    "\n",
    "def PlotMultiplePie(df, categorical_features=None, dropna=False):\n",
    "    # set a threshold of 30 unique variables, more than 50 can lead to ugly pie charts\n",
    "    threshold = 30\n",
    "\n",
    "    # if user did not set categorical_features\n",
    "    if categorical_features is None:\n",
    "        categorical_features = df.select_dtypes(['object', 'category']).columns.to_list()\n",
    "\n",
    "    print(\"The Categorical Features are:\", categorical_features)\n",
    "\n",
    "    # loop through the list of categorical_features\n",
    "    for cat_feature in categorical_features:\n",
    "        num_unique = df[cat_feature].nunique(dropna=dropna)\n",
    "        num_missing = df[cat_feature].isna().sum()\n",
    "        # prints pie chart and info if unique values below threshold\n",
    "        if num_unique <= threshold:\n",
    "            print('Pie Chart for: ', cat_feature)\n",
    "            print('Number of Unique Values: ', num_unique)\n",
    "            print('Number of Missing Values: ', num_missing)\n",
    "            fig = px.pie(df[cat_feature].value_counts(dropna=dropna), values=cat_feature,\n",
    "                         names=df[cat_feature].value_counts(dropna=dropna).index, title=cat_feature, template='ggplot2')\n",
    "            fig.show()\n",
    "        else:\n",
    "            print('Pie Chart for ', cat_feature, ' is unavailable due high number of Unique Values ')\n",
    "            print('Number of Unique Values: ', num_unique)\n",
    "            print('Number of Missing Values: ', num_missing)\n",
    "            print('\\n')\n",
    "\n",
    "\n",
    "def evaluateRegressor(true, predicted, message=\"    Test Set\"):\n",
    "    MSE = mean_squared_error(true, predicted, squared=True)\n",
    "    MAE = mean_absolute_error(true, predicted)\n",
    "    RMSE = mean_squared_error(true, predicted, squared=False)\n",
    "    R_squared = r2_score(true, predicted)\n",
    "\n",
    "    print(message)\n",
    "    print(\"MSE :\", MSE)\n",
    "    print(\"MAE :\", MAE)\n",
    "    print(\"RMSE :\", RMSE)\n",
    "    print(\"R-Squared :\", R_squared)"
   ]
  },
  {
   "cell_type": "code",
   "execution_count": 7,
   "metadata": {},
   "outputs": [
    {
     "name": "stdout",
     "output_type": "stream",
     "text": [
      "9685/11964 data points remain.\n"
     ]
    }
   ],
   "source": [
    "sample_data = remove_outliers(sample_data, \"co2\", 0.1, 0.9)\n",
    "sample_data = pd.get_dummies(sample_data)                       # Embedding\n",
    "\n",
    "# Train - Test Split\n",
    "x_data = sample_data.iloc[:, 6:]\n",
    "y_data = sample_data.iloc[:, [1, 2, 3, 4, 5]]\n",
    "train_x, valid_x, train_y, valid_y = train_test_split(x_data, y_data, test_size=0.2, shuffle=True, random_state=1)"
   ]
  },
  {
   "cell_type": "code",
   "execution_count": 9,
   "metadata": {},
   "outputs": [
    {
     "name": "stdout",
     "output_type": "stream",
     "text": [
      "Random Forest Regressor\n",
      "    Training Set\n",
      "MSE : 11220.805026085482\n",
      "MAE : 26.540365094686575\n",
      "RMSE : 50.37367219658843\n",
      "R-Squared : 0.8234099125127645\n",
      "    Test Set\n",
      "MSE : 22554.46964063669\n",
      "MAE : 40.020219152364646\n",
      "RMSE : 71.47945783825769\n",
      "R-Squared : 0.5033426403891046\n"
     ]
    }
   ],
   "source": [
    "print(\"Random Forest Regressor\")\n",
    "RFRegModel = RandomForestRegressor(random_state=0).fit(train_x, train_y)\n",
    "predict_train_y = RFRegModel.predict(train_x)\n",
    "evaluateRegressor(train_y, predict_train_y, \"    Training Set\")\n",
    "predict_valid_y = RFRegModel.predict(valid_x)\n",
    "evaluateRegressor(valid_y, predict_valid_y)"
   ]
  },
  {
   "cell_type": "code",
   "execution_count": 11,
   "metadata": {},
   "outputs": [
    {
     "name": "stdout",
     "output_type": "stream",
     "text": [
      "Linear Regression\n",
      "    Training Set\n",
      "MSE : 42227.40739074471\n",
      "MAE : 78.69411648569721\n",
      "RMSE : 98.13463580045149\n",
      "R-Squared : 0.231980148517252\n",
      "    Test Set\n",
      "MSE : 44805.73367211919\n",
      "MAE : 80.68214482199919\n",
      "RMSE : 100.25197430896894\n",
      "R-Squared : 0.2189286764034044\n"
     ]
    }
   ],
   "source": [
    "print(\"Linear Regression\")\n",
    "LinearModel = LinearRegression().fit(train_x, train_y)\n",
    "predict_train_y = LinearModel.predict(train_x)\n",
    "evaluateRegressor(train_y, predict_train_y, \"    Training Set\")\n",
    "predict_valid_y =LinearModel.predict(valid_x)\n",
    "evaluateRegressor(valid_y, predict_valid_y)"
   ]
  },
  {
   "cell_type": "code",
   "execution_count": 14,
   "metadata": {},
   "outputs": [
    {
     "name": "stdout",
     "output_type": "stream",
     "text": [
      "K-Nearest Neighbors\n",
      "    Training Set\n",
      "MSE : 17744.023845028394\n",
      "MAE : 40.806171915332996\n",
      "RMSE : 63.57574106562765\n",
      "R-Squared : 0.6728434000154995\n",
      "    Test Set\n",
      "MSE : 26812.53876662881\n",
      "MAE : 49.592807434176564\n",
      "RMSE : 78.37401441075362\n",
      "R-Squared : 0.388076176682229\n"
     ]
    }
   ],
   "source": [
    "print(\"K-Nearest Neighbors\")\n",
    "KNNModel = KNeighborsRegressor().fit(train_x, train_y)\n",
    "predict_train_y = KNNModel.predict(train_x)\n",
    "evaluateRegressor(train_y, predict_train_y, \"    Training Set\")\n",
    "predict_valid_y = KNNModel.predict(valid_x)\n",
    "evaluateRegressor(valid_y, predict_valid_y)"
   ]
  },
  {
   "cell_type": "code",
   "execution_count": 17,
   "metadata": {},
   "outputs": [
    {
     "name": "stdout",
     "output_type": "stream",
     "text": [
      "Decision Tree\n",
      "    Training Set\n",
      "MSE : 10932.62268883695\n",
      "MAE : 23.79475082095386\n",
      "RMSE : 49.43537462113815\n",
      "R-Squared : 0.8549891675019519\n",
      "    Test Set\n",
      "MSE : 27310.35023391786\n",
      "MAE : 43.56721525044679\n",
      "RMSE : 78.76822797563337\n",
      "R-Squared : 0.3740313102278825\n"
     ]
    }
   ],
   "source": [
    "print(\"Decision Tree\")\n",
    "DTModel = DecisionTreeRegressor().fit(train_x, train_y)\n",
    "predict_train_y = DTModel.predict(train_x)\n",
    "evaluateRegressor(train_y, predict_train_y, \"    Training Set\")\n",
    "predict_valid_y = DTModel.predict(valid_x)\n",
    "evaluateRegressor(valid_y, predict_valid_y)"
   ]
  },
  {
   "cell_type": "code",
   "execution_count": null,
   "metadata": {},
   "outputs": [],
   "source": []
  }
 ],
 "metadata": {
  "kernelspec": {
   "display_name": "Python 3",
   "language": "python",
   "name": "python3"
  },
  "language_info": {
   "codemirror_mode": {
    "name": "ipython",
    "version": 3
   },
   "file_extension": ".py",
   "mimetype": "text/x-python",
   "name": "python",
   "nbconvert_exporter": "python",
   "pygments_lexer": "ipython3",
   "version": "3.7.9"
  }
 },
 "nbformat": 4,
 "nbformat_minor": 4
}
