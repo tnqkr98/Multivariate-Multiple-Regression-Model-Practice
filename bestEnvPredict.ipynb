{
 "cells": [
  {
   "cell_type": "code",
   "execution_count": 85,
   "metadata": {},
   "outputs": [],
   "source": [
    "import pandas as pd\n",
    "import plotly.express as px\n",
    "import matplotlib.pyplot as plt\n",
    "import seaborn as sns\n",
    "import numpy as np\n",
    "from sklearn.datasets import load_iris\n",
    "from sklearn.datasets import make_regression\n",
    "from sklearn.model_selection import train_test_split\n",
    "from sklearn.model_selection import RepeatedKFold\n",
    "from sklearn.model_selection import cross_val_score\n",
    "from sklearn.metrics import mean_squared_error, mean_absolute_error, r2_score\n",
    "from sklearn.ensemble import RandomForestRegressor\n",
    "from sklearn.svm import LinearSVR\n",
    "from sklearn.linear_model import LinearRegression\n",
    "from sklearn.neighbors import KNeighborsRegressor\n",
    "from sklearn.tree import DecisionTreeRegressor\n",
    "from sklearn.multioutput import MultiOutputRegressor\n",
    "from sklearn.multioutput import RegressorChain\n",
    "from sklearn.ensemble import GradientBoostingRegressor\n",
    "from sklearn.preprocessing import StandardScaler\n",
    "from xgboost import XGBRegressor\n",
    "from lightgbm import LGBMRegressor\n",
    "# from bayes_opt import BayesianOptimization\n",
    "import shap\n"
   ]
  },
  {
   "cell_type": "code",
   "execution_count": 86,
   "metadata": {},
   "outputs": [
    {
     "name": "stdout",
     "output_type": "stream",
     "text": [
      "<class 'pandas.core.frame.DataFrame'>\n",
      "RangeIndex: 14733 entries, 0 to 14732\n",
      "Data columns (total 22 columns):\n",
      " #   Column      Non-Null Count  Dtype  \n",
      "---  ------      --------------  -----  \n",
      " 0   Unnamed: 0  14733 non-null  int64  \n",
      " 1   co2         14733 non-null  int64  \n",
      " 2   temp        14733 non-null  float64\n",
      " 3   humid       14733 non-null  float64\n",
      " 4   csd         14733 non-null  int64  \n",
      " 5   sound       14733 non-null  int64  \n",
      " 6   time        14733 non-null  int64  \n",
      " 7   state       14733 non-null  object \n",
      " 8   age         14733 non-null  int64  \n",
      " 9   gender      14733 non-null  object \n",
      " 10  height      14733 non-null  int64  \n",
      " 11  weight      14733 non-null  int64  \n",
      " 12  disease     14733 non-null  object \n",
      " 13  depressive  14733 non-null  int64  \n",
      " 14  disorder    14733 non-null  object \n",
      " 15  media       14733 non-null  int64  \n",
      " 16  liquor      14733 non-null  int64  \n",
      " 17  smoke       14733 non-null  int64  \n",
      " 18  caffeine    14733 non-null  int64  \n",
      " 19  exercise    14733 non-null  int64  \n",
      " 20  stress      14733 non-null  int64  \n",
      " 21  nap         14733 non-null  int64  \n",
      "dtypes: float64(2), int64(16), object(4)\n",
      "memory usage: 2.5+ MB\n",
      "None\n"
     ]
    }
   ],
   "source": [
    "sample_data = pd.read_csv(\"sample.csv\")\n",
    "print(sample_data.info(verbose=True, show_counts=True))"
   ]
  },
  {
   "cell_type": "code",
   "execution_count": 35,
   "metadata": {},
   "outputs": [
    {
     "name": "stdout",
     "output_type": "stream",
     "text": [
      "11964/14733 data points remain.\n"
     ]
    }
   ],
   "source": [
    "sample_data = remove_outliers(sample_data, \"co2\", 0.1, 0.9)\n",
    "sample_data = pd.get_dummies(sample_data)                       # Embedding\n",
    "\n",
    "# Train - Test Split\n",
    "x_data = sample_data.iloc[:, 6:]\n",
    "y_data = sample_data.iloc[:, [1, 2, 3, 4, 5]]\n",
    "train_x, valid_x, train_y, valid_y = train_test_split(x_data, y_data, test_size=0.2, shuffle=True, random_state=1)"
   ]
  },
  {
   "cell_type": "code",
   "execution_count": 52,
   "metadata": {},
   "outputs": [],
   "source": [
    "def remove_outliers(df, column_name, lower, upper):\n",
    "    removed_outliers = df[column_name].between(df[column_name].quantile(lower), df[column_name].quantile(upper))\n",
    "\n",
    "    print(str(df[column_name][removed_outliers].size) + \"/\" + str(sample_data[column_name].size) + \" data points remain.\")\n",
    "\n",
    "    index_names = df[~removed_outliers].index\n",
    "    return df.drop(index_names)\n",
    "\n",
    "\n",
    "def PlotMultiplePie(df, categorical_features=None, dropna=False):\n",
    "    # set a threshold of 30 unique variables, more than 50 can lead to ugly pie charts\n",
    "    threshold = 30\n",
    "\n",
    "    # if user did not set categorical_features\n",
    "    if categorical_features is None:\n",
    "        categorical_features = df.select_dtypes(['object', 'category']).columns.to_list()\n",
    "\n",
    "    print(\"The Categorical Features are:\", categorical_features)\n",
    "\n",
    "    # loop through the list of categorical_features\n",
    "    for cat_feature in categorical_features:\n",
    "        num_unique = df[cat_feature].nunique(dropna=dropna)\n",
    "        num_missing = df[cat_feature].isna().sum()\n",
    "        # prints pie chart and info if unique values below threshold\n",
    "        if num_unique <= threshold:\n",
    "            print('Pie Chart for: ', cat_feature)\n",
    "            print('Number of Unique Values: ', num_unique)\n",
    "            print('Number of Missing Values: ', num_missing)\n",
    "            fig = px.pie(df[cat_feature].value_counts(dropna=dropna), values=cat_feature,\n",
    "                         names=df[cat_feature].value_counts(dropna=dropna).index, title=cat_feature, template='ggplot2')\n",
    "            fig.show()\n",
    "        else:\n",
    "            print('Pie Chart for ', cat_feature, ' is unavailable due high number of Unique Values ')\n",
    "            print('Number of Unique Values: ', num_unique)\n",
    "            print('Number of Missing Values: ', num_missing)\n",
    "            print('\\n')\n",
    "\n",
    "\n",
    "def evaluateRegressor(true, predicted, message=\"    Test Set\"):\n",
    "    MSE = mean_squared_error(true, predicted, squared=True)\n",
    "    MAE = mean_absolute_error(true, predicted)\n",
    "    RMSE = mean_squared_error(true, predicted, squared=False)\n",
    "    R_squared = r2_score(true, predicted)\n",
    "\n",
    "    print(message)\n",
    "    print(\"MSE :\", MSE)\n",
    "    print(\"MAE :\", MAE)\n",
    "    print(\"RMSE :\", RMSE)\n",
    "    print(\"R-Squared :\", R_squared)\n",
    "    \n",
    "    \n",
    "def evaluateKFold(model):\n",
    "    cv = RepeatedKFold(n_splits=5, n_repeats=3, random_state=1)\n",
    "    n_scores = cross_val_score(model, x_data, y_data, scoring='neg_mean_squared_error', cv=cv, n_jobs=-1)\n",
    "    rmse = np.sqrt(-1*n_scores)\n",
    "    print('RMSE: %.3f'%np.mean(rmse))\n",
    "    "
   ]
  },
  {
   "cell_type": "code",
   "execution_count": 9,
   "metadata": {},
   "outputs": [
    {
     "name": "stdout",
     "output_type": "stream",
     "text": [
      "Random Forest Regressor\n",
      "    Training Set\n",
      "MSE : 11220.805026085482\n",
      "MAE : 26.540365094686575\n",
      "RMSE : 50.37367219658843\n",
      "R-Squared : 0.8234099125127645\n",
      "    Test Set\n",
      "MSE : 22554.46964063669\n",
      "MAE : 40.020219152364646\n",
      "RMSE : 71.47945783825769\n",
      "R-Squared : 0.5033426403891046\n"
     ]
    }
   ],
   "source": [
    "print(\"Random Forest Regressor\")\n",
    "RFRegModel = RandomForestRegressor(random_state=0).fit(train_x, train_y)\n",
    "predict_train_y = RFRegModel.predict(train_x)\n",
    "evaluateRegressor(train_y, predict_train_y, \"    Training Set\")\n",
    "predict_valid_y = RFRegModel.predict(valid_x)\n",
    "evaluateRegressor(valid_y, predict_valid_y)"
   ]
  },
  {
   "cell_type": "code",
   "execution_count": 11,
   "metadata": {},
   "outputs": [
    {
     "name": "stdout",
     "output_type": "stream",
     "text": [
      "Linear Regression\n",
      "    Training Set\n",
      "MSE : 42227.40739074471\n",
      "MAE : 78.69411648569721\n",
      "RMSE : 98.13463580045149\n",
      "R-Squared : 0.231980148517252\n",
      "    Test Set\n",
      "MSE : 44805.73367211919\n",
      "MAE : 80.68214482199919\n",
      "RMSE : 100.25197430896894\n",
      "R-Squared : 0.2189286764034044\n"
     ]
    }
   ],
   "source": [
    "print(\"Linear Regression\")\n",
    "LinearModel = LinearRegression().fit(train_x, train_y)\n",
    "predict_train_y = LinearModel.predict(train_x)\n",
    "evaluateRegressor(train_y, predict_train_y, \"    Training Set\")\n",
    "predict_valid_y =LinearModel.predict(valid_x)\n",
    "evaluateRegressor(valid_y, predict_valid_y)"
   ]
  },
  {
   "cell_type": "code",
   "execution_count": 14,
   "metadata": {},
   "outputs": [
    {
     "name": "stdout",
     "output_type": "stream",
     "text": [
      "K-Nearest Neighbors\n",
      "    Training Set\n",
      "MSE : 17744.023845028394\n",
      "MAE : 40.806171915332996\n",
      "RMSE : 63.57574106562765\n",
      "R-Squared : 0.6728434000154995\n",
      "    Test Set\n",
      "MSE : 26812.53876662881\n",
      "MAE : 49.592807434176564\n",
      "RMSE : 78.37401441075362\n",
      "R-Squared : 0.388076176682229\n"
     ]
    }
   ],
   "source": [
    "print(\"K-Nearest Neighbors\")\n",
    "KNNModel = KNeighborsRegressor().fit(train_x, train_y)\n",
    "predict_train_y = KNNModel.predict(train_x)\n",
    "evaluateRegressor(train_y, predict_train_y, \"    Training Set\")\n",
    "predict_valid_y = KNNModel.predict(valid_x)\n",
    "evaluateRegressor(valid_y, predict_valid_y)"
   ]
  },
  {
   "cell_type": "code",
   "execution_count": 17,
   "metadata": {},
   "outputs": [
    {
     "name": "stdout",
     "output_type": "stream",
     "text": [
      "Decision Tree\n",
      "    Training Set\n",
      "MSE : 10932.62268883695\n",
      "MAE : 23.79475082095386\n",
      "RMSE : 49.43537462113815\n",
      "R-Squared : 0.8549891675019519\n",
      "    Test Set\n",
      "MSE : 27310.35023391786\n",
      "MAE : 43.56721525044679\n",
      "RMSE : 78.76822797563337\n",
      "R-Squared : 0.3740313102278825\n"
     ]
    }
   ],
   "source": [
    "print(\"Decision Tree\")\n",
    "DTModel = DecisionTreeRegressor().fit(train_x, train_y)\n",
    "predict_train_y = DTModel.predict(train_x)\n",
    "evaluateRegressor(train_y, predict_train_y, \"    Training Set\")\n",
    "predict_valid_y = DTModel.predict(valid_x)\n",
    "evaluateRegressor(valid_y, predict_valid_y)"
   ]
  },
  {
   "cell_type": "code",
   "execution_count": 53,
   "metadata": {},
   "outputs": [
    {
     "name": "stdout",
     "output_type": "stream",
     "text": [
      "Random Forest Regressor\n",
      "RMSE: 177.052\n",
      "Decision Tree\n",
      "RMSE: 198.555\n",
      "K-Nearest Neighbors\n",
      "RMSE: 185.799\n",
      "Linear Regression\n",
      "RMSE: 231.237\n"
     ]
    }
   ],
   "source": [
    "print(\"Random Forest Regressor\")\n",
    "RFRegModel = RandomForestRegressor(random_state=0)\n",
    "evaluateKFold(RFRegModel)\n",
    "print(\"K-Nearest Neighbors\")\n",
    "KNNModel = KNeighborsRegressor()\n",
    "evaluateKFold(KNNModel)\n",
    "print(\"Linear Regression\")\n",
    "LinearModel = LinearRegression()\n",
    "evaluateKFold(LinearModel)\n",
    "print(\"Decision Tree \")\n",
    "DTModel = DecisionTreeRegressor()\n",
    "evaluateKFold(DTModel)"
   ]
  },
  {
   "cell_type": "code",
   "execution_count": 55,
   "metadata": {},
   "outputs": [
    {
     "name": "stdout",
     "output_type": "stream",
     "text": [
      "Support Vector Machine - Direct Multioutput\n",
      "RMSE: 257.493\n",
      "Support Vector Machine - Chained Multioutput\n",
      "RMSE: 254.937\n"
     ]
    }
   ],
   "source": [
    "print(\"Support Vector Machine - Direct Multioutput\")\n",
    "model = LinearSVR()\n",
    "wrapper = MultiOutputRegressor(model)\n",
    "evaluateKFold(wrapper)\n",
    "print(\"Support Vector Machine - Chained Multioutput\")\n",
    "model = LinearSVR()\n",
    "wrapper = RegressorChain(model)\n",
    "evaluateKFold(wrapper)"
   ]
  },
  {
   "cell_type": "code",
   "execution_count": 87,
   "metadata": {},
   "outputs": [
    {
     "name": "stdout",
     "output_type": "stream",
     "text": [
      "11964/14733 data points remain.\n",
      "<class 'pandas.core.frame.DataFrame'>\n",
      "Int64Index: 11964 entries, 233 to 14732\n",
      "Data columns (total 19 columns):\n",
      " #   Column         Non-Null Count  Dtype\n",
      "---  ------         --------------  -----\n",
      " 0   time           11964 non-null  int64\n",
      " 1   age            11964 non-null  int64\n",
      " 2   height         11964 non-null  int64\n",
      " 3   weight         11964 non-null  int64\n",
      " 4   depressive     11964 non-null  int64\n",
      " 5   media          11964 non-null  int64\n",
      " 6   liquor         11964 non-null  int64\n",
      " 7   smoke          11964 non-null  int64\n",
      " 8   caffeine       11964 non-null  int64\n",
      " 9   exercise       11964 non-null  int64\n",
      " 10  stress         11964 non-null  int64\n",
      " 11  nap            11964 non-null  int64\n",
      " 12  state_asleep   11964 non-null  uint8\n",
      " 13  state_awake    11964 non-null  uint8\n",
      " 14  gender_female  11964 non-null  uint8\n",
      " 15  gender_male    11964 non-null  uint8\n",
      " 16  disease_none   11964 non-null  uint8\n",
      " 17  disorder_no    11964 non-null  uint8\n",
      " 18  disorder_yes   11964 non-null  uint8\n",
      "dtypes: int64(12), uint8(7)\n",
      "memory usage: 1.3 MB\n"
     ]
    }
   ],
   "source": [
    "sample_data = pd.read_csv(\"sample.csv\")\n",
    "sample_data = remove_outliers(sample_data, \"co2\", 0.1, 0.9)\n",
    "sample_data = pd.get_dummies(sample_data)                       # Embedding\n",
    "\n",
    "x_data = sample_data.iloc[:, 6:]\n",
    "y_data = sample_data.iloc[:, [1, 2, 3, 4, 5]]\n",
    "x_train, x_test, y_train, y_test = train_test_split(x_data, y_data, test_size=0.1, random_state=42)\n",
    "x_data.info(verbose=True, show_counts=True)\n",
    "\n",
    "sc_x = StandardScaler()\n",
    "x_train_scaled = sc_x.fit_transform(x_train)\n",
    "x_test_scaled = sc_x.transform(x_test)\n",
    "\n",
    "sc_y = StandardScaler()\n",
    "y_train_scaled = sc_y.fit_transform(y_train)\n",
    "y_test_scaled = sc_y.transform(y_test)\n",
    "\n",
    "x_train_scaled = np.array(x_train_scaled, dtype=np.float32)\n",
    "y_train_scaled = np.array(y_train_scaled, dtype=np.float32)\n",
    "x_test_scaled = np.array(x_test_scaled, dtype=np.float32)\n",
    "y_test_scaled = np.array(y_test_scaled, dtype=np.float32)\n",
    "\n",
    "inputs = torch.from_numpy(x_train_scaled)\n",
    "targets = torch.from_numpy(y_train_scaled)\n",
    "\n",
    "test_inputs = torch.from_numpy(x_test_scaled)\n",
    "test_targets = torch.from_numpy(y_test_scaled)"
   ]
  },
  {
   "cell_type": "code",
   "execution_count": 88,
   "metadata": {},
   "outputs": [
    {
     "name": "stdout",
     "output_type": "stream",
     "text": [
      "Random Forest Regressor\n",
      "    Training Set\n",
      "MSE : 0.21282695962886905\n",
      "MAE : 0.17481054727271722\n",
      "RMSE : 0.45810987846040235\n",
      "R-Squared : 0.7871730385051497\n",
      "    Test Set\n",
      "MSE : 0.5324825903698143\n",
      "MAE : 0.2874270507676731\n",
      "RMSE : 0.6862615546984424\n",
      "R-Squared : 0.543861072193424\n"
     ]
    }
   ],
   "source": [
    "print(\"Random Forest Regressor\")\n",
    "RFRegModel = RandomForestRegressor(random_state=0).fit(inputs, targets)\n",
    "predict_train_y = RFRegModel.predict(inputs)\n",
    "evaluateRegressor(targets, predict_train_y, \"    Training Set\")\n",
    "predict_valid_y = RFRegModel.predict(test_inputs)\n",
    "evaluateRegressor(test_targets, predict_valid_y)"
   ]
  },
  {
   "cell_type": "code",
   "execution_count": 90,
   "metadata": {},
   "outputs": [
    {
     "name": "stdout",
     "output_type": "stream",
     "text": [
      "Linear Regression\n",
      "    Training Set\n",
      "MSE : 0.7465827\n",
      "MAE : 0.3963996\n",
      "RMSE : 0.85488796\n",
      "R-Squared : 0.25341426251852184\n",
      "    Test Set\n",
      "MSE : 1.1032459\n",
      "MAE : 0.41297412\n",
      "RMSE : 1.0085735\n",
      "R-Squared : 0.2445805607796104\n"
     ]
    }
   ],
   "source": [
    "print(\"Linear Regression\")\n",
    "LinearModel = LinearRegression().fit(inputs, targets)\n",
    "predict_train_y = LinearModel.predict(inputs)\n",
    "evaluateRegressor(targets, predict_train_y, \"    Training Set\")\n",
    "predict_valid_y = LinearModel.predict(test_inputs)\n",
    "evaluateRegressor(test_targets, predict_valid_y)"
   ]
  },
  {
   "cell_type": "code",
   "execution_count": null,
   "metadata": {},
   "outputs": [],
   "source": []
  }
 ],
 "metadata": {
  "kernelspec": {
   "display_name": "Python 3",
   "language": "python",
   "name": "python3"
  },
  "language_info": {
   "codemirror_mode": {
    "name": "ipython",
    "version": 3
   },
   "file_extension": ".py",
   "mimetype": "text/x-python",
   "name": "python",
   "nbconvert_exporter": "python",
   "pygments_lexer": "ipython3",
   "version": "3.7.9"
  }
 },
 "nbformat": 4,
 "nbformat_minor": 4
}
