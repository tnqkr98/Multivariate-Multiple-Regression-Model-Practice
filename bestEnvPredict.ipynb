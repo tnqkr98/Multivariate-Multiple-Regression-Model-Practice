{
 "cells": [
  {
   "cell_type": "code",
   "execution_count": 3,
   "metadata": {},
   "outputs": [
    {
     "data": {
      "text/html": [
       "        <script type=\"text/javascript\">\n",
       "        window.PlotlyConfig = {MathJaxConfig: 'local'};\n",
       "        if (window.MathJax) {MathJax.Hub.Config({SVG: {font: \"STIX-Web\"}});}\n",
       "        if (typeof require !== 'undefined') {\n",
       "        require.undef(\"plotly\");\n",
       "        requirejs.config({\n",
       "            paths: {\n",
       "                'plotly': ['https://cdn.plot.ly/plotly-2.2.0.min']\n",
       "            }\n",
       "        });\n",
       "        require(['plotly'], function(Plotly) {\n",
       "            window._Plotly = Plotly;\n",
       "        });\n",
       "        }\n",
       "        </script>\n",
       "        "
      ]
     },
     "metadata": {},
     "output_type": "display_data"
    }
   ],
   "source": [
    "import pandas as pd\n",
    "import plotly.express as px\n",
    "import matplotlib.pyplot as plt\n",
    "import seaborn as sns\n",
    "import numpy as np\n",
    "from sklearn.datasets import load_iris\n",
    "from sklearn.datasets import make_regression\n",
    "from sklearn.model_selection import train_test_split\n",
    "from sklearn.model_selection import RepeatedKFold\n",
    "from sklearn.model_selection import cross_val_score\n",
    "from sklearn.metrics import mean_squared_error, mean_absolute_error, r2_score\n",
    "from sklearn.ensemble import RandomForestRegressor\n",
    "from sklearn.svm import LinearSVR\n",
    "from sklearn.linear_model import LinearRegression\n",
    "from sklearn.neighbors import KNeighborsRegressor\n",
    "from sklearn.tree import DecisionTreeRegressor\n",
    "from sklearn.multioutput import MultiOutputRegressor\n",
    "from sklearn.multioutput import RegressorChain\n",
    "from sklearn.ensemble import GradientBoostingRegressor\n",
    "from sklearn.preprocessing import StandardScaler\n",
    "from sklearn.preprocessing import MinMaxScaler\n",
    "from sklearn.preprocessing import RobustScaler\n",
    "from sklearn.preprocessing import MaxAbsScaler\n",
    "from xgboost import XGBRegressor\n",
    "from lightgbm import LGBMRegressor\n",
    "import plotly.graph_objs as go\n",
    "import plotly.offline as py\n",
    "# from bayes_opt import BayesianOptimization\n",
    "import shap\n",
    "\n",
    "py.init_notebook_mode(connected=True)"
   ]
  },
  {
   "cell_type": "code",
   "execution_count": 4,
   "metadata": {},
   "outputs": [
    {
     "name": "stdout",
     "output_type": "stream",
     "text": [
      "<class 'pandas.core.frame.DataFrame'>\n",
      "RangeIndex: 124615 entries, 0 to 124614\n",
      "Data columns (total 20 columns):\n",
      " #   Column      Non-Null Count   Dtype  \n",
      "---  ------      --------------   -----  \n",
      " 0   co2         124615 non-null  int64  \n",
      " 1   temp        124615 non-null  float64\n",
      " 2   humid       124615 non-null  float64\n",
      " 3   csd         124615 non-null  int64  \n",
      " 4   sound       124615 non-null  int64  \n",
      " 5   state       124615 non-null  object \n",
      " 6   age         124615 non-null  int64  \n",
      " 7   gender      124615 non-null  object \n",
      " 8   height      124615 non-null  int64  \n",
      " 9   weight      124615 non-null  int64  \n",
      " 10  disease     124615 non-null  object \n",
      " 11  depressive  124615 non-null  int64  \n",
      " 12  disorder    124615 non-null  object \n",
      " 13  media       124615 non-null  int64  \n",
      " 14  liquor      124615 non-null  int64  \n",
      " 15  smoke       124615 non-null  int64  \n",
      " 16  caffeine    124615 non-null  int64  \n",
      " 17  exercise    124615 non-null  int64  \n",
      " 18  stress      124615 non-null  int64  \n",
      " 19  nap         124615 non-null  object \n",
      "dtypes: float64(2), int64(13), object(5)\n",
      "memory usage: 19.0+ MB\n",
      "None\n"
     ]
    }
   ],
   "source": [
    "sample_data = pd.read_csv(\"sample.csv\")\n",
    "print(sample_data.info(verbose=True, show_counts=True))"
   ]
  },
  {
   "cell_type": "code",
   "execution_count": 9,
   "metadata": {},
   "outputs": [
    {
     "name": "stdout",
     "output_type": "stream",
     "text": [
      "112556/124615 data points remain.\n",
      "<class 'pandas.core.frame.DataFrame'>\n",
      "Int64Index: 111672 entries, 0 to 124614\n",
      "Data columns (total 20 columns):\n",
      " #   Column      Non-Null Count   Dtype  \n",
      "---  ------      --------------   -----  \n",
      " 0   co2         111672 non-null  int64  \n",
      " 1   temp        111672 non-null  float64\n",
      " 2   humid       111672 non-null  float64\n",
      " 3   csd         111672 non-null  int64  \n",
      " 4   sound       111672 non-null  int64  \n",
      " 5   state       111672 non-null  object \n",
      " 6   age         111672 non-null  int64  \n",
      " 7   gender      111672 non-null  object \n",
      " 8   height      111672 non-null  int64  \n",
      " 9   weight      111672 non-null  int64  \n",
      " 10  disease     111672 non-null  object \n",
      " 11  depressive  111672 non-null  int64  \n",
      " 12  disorder    111672 non-null  object \n",
      " 13  media       111672 non-null  int64  \n",
      " 14  liquor      111672 non-null  int64  \n",
      " 15  smoke       111672 non-null  int64  \n",
      " 16  caffeine    111672 non-null  int64  \n",
      " 17  exercise    111672 non-null  int64  \n",
      " 18  stress      111672 non-null  int64  \n",
      " 19  nap         111672 non-null  object \n",
      "dtypes: float64(2), int64(13), object(5)\n",
      "memory usage: 17.9+ MB\n"
     ]
    }
   ],
   "source": [
    "sample_data = remove_outliers(sample_data, \"co2\", 0.05, 0.95)\n",
    "idx_zero_temp = sample_data[sample_data['temp'] == 0].index\n",
    "sample_data = sample_data.drop(idx_zero_temp)\n",
    "sample_data.info(verbose=True, show_counts=True)\n",
    "\n",
    "sample_data = pd.get_dummies(sample_data)                       # Embedding\n",
    "\n",
    "# Train - Test Split\n",
    "x_data = sample_data.iloc[:, 6:]\n",
    "y_data = sample_data.iloc[:, [1, 2, 3, 4, 5]]\n",
    "train_x, valid_x, train_y, valid_y = train_test_split(x_data, y_data, test_size=0.2, shuffle=True, random_state=1)"
   ]
  },
  {
   "cell_type": "code",
   "execution_count": 8,
   "metadata": {},
   "outputs": [],
   "source": [
    "def remove_outliers(df, column_name, lower, upper):\n",
    "    removed_outliers = df[column_name].between(df[column_name].quantile(lower), df[column_name].quantile(upper))\n",
    "\n",
    "    print(str(df[column_name][removed_outliers].size) + \"/\" + str(sample_data[column_name].size) + \" data points remain.\")\n",
    "\n",
    "    index_names = df[~removed_outliers].index\n",
    "    return df.drop(index_names)\n",
    "\n",
    "\n",
    "def PlotMultiplePie(df, categorical_features=None, dropna=False):\n",
    "    # set a threshold of 30 unique variables, more than 50 can lead to ugly pie charts\n",
    "    threshold = 30\n",
    "\n",
    "    # if user did not set categorical_features\n",
    "    if categorical_features is None:\n",
    "        categorical_features = df.select_dtypes(['object', 'category']).columns.to_list()\n",
    "\n",
    "    print(\"The Categorical Features are:\", categorical_features)\n",
    "\n",
    "    # loop through the list of categorical_features\n",
    "    for cat_feature in categorical_features:\n",
    "        num_unique = df[cat_feature].nunique(dropna=dropna)\n",
    "        num_missing = df[cat_feature].isna().sum()\n",
    "        # prints pie chart and info if unique values below threshold\n",
    "        if num_unique <= threshold:\n",
    "            print('Pie Chart for: ', cat_feature)\n",
    "            print('Number of Unique Values: ', num_unique)\n",
    "            print('Number of Missing Values: ', num_missing)\n",
    "            fig = px.pie(df[cat_feature].value_counts(dropna=dropna), values=cat_feature,\n",
    "                         names=df[cat_feature].value_counts(dropna=dropna).index, title=cat_feature, template='ggplot2')\n",
    "            fig.show()\n",
    "        else:\n",
    "            print('Pie Chart for ', cat_feature, ' is unavailable due high number of Unique Values ')\n",
    "            print('Number of Unique Values: ', num_unique)\n",
    "            print('Number of Missing Values: ', num_missing)\n",
    "            print('\\n')\n",
    "\n",
    "\n",
    "def evaluateRegressor(true, predicted, message=\"    Test Set\"):\n",
    "    MSE = mean_squared_error(true, predicted, squared=True)\n",
    "    MAE = mean_absolute_error(true, predicted)\n",
    "    RMSE = mean_squared_error(true, predicted, squared=False)\n",
    "    R_squared = r2_score(true, predicted)\n",
    "\n",
    "    print(message)\n",
    "    print(\"MSE :\", MSE)\n",
    "    print(\"MAE :\", MAE)\n",
    "    print(\"RMSE :\", RMSE)\n",
    "    print(\"R-Squared :\", R_squared)\n",
    "    \n",
    "    \n",
    "def evaluateKFold(model):\n",
    "    cv = RepeatedKFold(n_splits=5, n_repeats=3, random_state=1)\n",
    "    n_scores = cross_val_score(model, x_data, y_data, scoring='neg_mean_squared_error', cv=cv, n_jobs=-1)\n",
    "    rmse = np.sqrt(-1*n_scores)\n",
    "    print('RMSE: %.3f'%np.mean(rmse))\n",
    "    "
   ]
  },
  {
   "cell_type": "code",
   "execution_count": 10,
   "metadata": {},
   "outputs": [
    {
     "name": "stderr",
     "output_type": "stream",
     "text": [
      "Pass the following variable as a keyword arg: x. From version 0.12, the only valid positional argument will be `data`, and passing other arguments without an explicit keyword will result in an error or misinterpretation.\n"
     ]
    },
    {
     "data": {
      "text/plain": [
       "<AxesSubplot:xlabel='stress', ylabel='count'>"
      ]
     },
     "execution_count": 10,
     "metadata": {},
     "output_type": "execute_result"
    },
    {
     "data": {
      "image/png": "[encoded data removed]",
      "text/plain": [
       "<Figure size 432x288 with 1 Axes>"
      ]
     },
     "metadata": {
      "needs_background": "light"
     },
     "output_type": "display_data"
    }
   ],
   "source": [
    "sample_data = pd.read_csv(\"sample.csv\")\n",
    "idx_zero_temp = sample_data[sample_data['stress'] == -1].index\n",
    "sample_data = sample_data.drop(idx_zero_temp)\n",
    "sns.countplot(sample_data['stress'])\n",
    "# sns.countplot(sample_data['age'])\n",
    "# sns.countplot(sample_data['weight'])\n",
    "# sns.countplot(sample_data['height'])\n",
    "# sns.countplot(sample_data['media'])\n",
    "# sns.countplot(sample_data['liquor'])\n",
    "# sns.countplot(sample_data['smoke'])\n",
    "# sns.countplot(sample_data['caffeine'])\n",
    "# sns.countplot(sample_data['exercise'])\n",
    "# sns.countplot(sample_data['stress'])"
   ]
  },
  {
   "cell_type": "code",
   "execution_count": 11,
   "metadata": {},
   "outputs": [
    {
     "name": "stdout",
     "output_type": "stream",
     "text": [
      "112556/124615 data points remain.\n",
      "<class 'pandas.core.frame.DataFrame'>\n",
      "Int64Index: 111440 entries, 0 to 124614\n",
      "Data columns (total 20 columns):\n",
      " #   Column      Non-Null Count   Dtype  \n",
      "---  ------      --------------   -----  \n",
      " 0   co2         111440 non-null  int64  \n",
      " 1   temp        111440 non-null  float64\n",
      " 2   humid       111440 non-null  float64\n",
      " 3   csd         111440 non-null  int64  \n",
      " 4   sound       111440 non-null  int64  \n",
      " 5   state       111440 non-null  object \n",
      " 6   age         111440 non-null  int64  \n",
      " 7   gender      111440 non-null  object \n",
      " 8   height      111440 non-null  int64  \n",
      " 9   weight      111440 non-null  int64  \n",
      " 10  disease     111440 non-null  object \n",
      " 11  depressive  111440 non-null  int64  \n",
      " 12  disorder    111440 non-null  object \n",
      " 13  media       111440 non-null  int64  \n",
      " 14  liquor      111440 non-null  int64  \n",
      " 15  smoke       111440 non-null  int64  \n",
      " 16  caffeine    111440 non-null  int64  \n",
      " 17  exercise    111440 non-null  int64  \n",
      " 18  stress      111440 non-null  int64  \n",
      " 19  nap         111440 non-null  object \n",
      "dtypes: float64(2), int64(13), object(5)\n",
      "memory usage: 17.9+ MB\n"
     ]
    }
   ],
   "source": [
    "sample_data = pd.read_csv(\"sample.csv\")\n",
    "sample_data = remove_outliers(sample_data, \"co2\", 0.05, 0.95)\n",
    "idx_zero_temp = sample_data[sample_data['temp'] == 0].index\n",
    "sample_data = sample_data.drop(idx_zero_temp)\n",
    "idx_zero_temp = sample_data[sample_data['stress'] == -1].index\n",
    "sample_data = sample_data.drop(idx_zero_temp)\n",
    "sample_data.info(verbose=True, show_counts=True)\n",
    "\n",
    "sample_data = pd.get_dummies(sample_data)                       # Embedding\n",
    "x_data = sample_data.iloc[:, 5:]\n",
    "y_data = sample_data.iloc[:, [0, 1, 2, 3, 4]]\n",
    "x_train, x_test, y_train, y_test = train_test_split(x_data, y_data, test_size=0.1, random_state=42)\n",
    "# x_data.info(verbose=True, show_counts=True)\n",
    "\n",
    "sc = StandardScaler()\n",
    "x_train_scaled = sc.fit_transform(x_train)\n",
    "x_test_scaled = sc.transform(x_test)\n",
    "y_train_scaled = sc.fit_transform(y_train)\n",
    "y_test_scaled = sc.transform(y_test)\n",
    "\n",
    "x_train_scaled = np.array(x_train_scaled, dtype=np.float32)\n",
    "y_train_scaled = np.array(y_train_scaled, dtype=np.float32)\n",
    "x_test_scaled = np.array(x_test_scaled, dtype=np.float32)\n",
    "y_test_scaled = np.array(y_test_scaled, dtype=np.float32)\n",
    "\n",
    "inputs = x_train_scaled\n",
    "targets = y_train_scaled\n",
    "test_inputs = x_test_scaled\n",
    "test_targets = y_test_scaled\n"
   ]
  },
  {
   "cell_type": "code",
   "execution_count": 12,
   "metadata": {},
   "outputs": [
    {
     "name": "stdout",
     "output_type": "stream",
     "text": [
      "Random Forest Regressor\n",
      "    Training Set\n",
      "MSE : 0.2224043078598903\n",
      "MAE : 0.24640288274712924\n",
      "RMSE : 0.46415873333917707\n",
      "R-Squared : 0.7775956923240173\n",
      "    Test Set\n",
      "MSE : 0.22351010648321434\n",
      "MAE : 0.24804689934420546\n",
      "RMSE : 0.46478271311327823\n",
      "R-Squared : 0.7781252701467214\n",
      "    Valid Set\n",
      "MSE : 31743.39743907359\n",
      "MAE : 53.15134703081998\n",
      "RMSE : 84.52600071159752\n",
      "R-Squared : 0.7781252710409555\n"
     ]
    }
   ],
   "source": [
    "print(\"Random Forest Regressor\")\n",
    "RFRegModel = RandomForestRegressor(random_state=0).fit(inputs, targets)\n",
    "predict_train_y = RFRegModel.predict(inputs)\n",
    "evaluateRegressor(targets, predict_train_y, \"    Training Set\")\n",
    "predict_valid_y = RFRegModel.predict(test_inputs)\n",
    "evaluateRegressor(test_targets, predict_valid_y)\n",
    "predict_valid_y = sc.inverse_transform(predict_valid_y)\n",
    "evaluateRegressor(y_test, predict_valid_y,\"    Valid Set\")"
   ]
  },
  {
   "cell_type": "code",
   "execution_count": null,
   "metadata": {},
   "outputs": [],
   "source": [
    "features = x_train.columns.values\n",
    "x, y = (list(x) for x in zip(*sorted(zip(RFRegModel.feature_importances_, features),reverse=False)) )\n",
    "\n",
    "trace = go.Bar(x=x,y=y,\n",
    "              marker=dict(\n",
    "              color=x,\n",
    "              colorscale = 'Viridis',\n",
    "              reversescale = True),\n",
    "              name = 'Random Forest Feature importance',\n",
    "              orientation='h',\n",
    "              )\n",
    "layout = dict(title='Feature Importance', \n",
    "              width = 900, \n",
    "              height = 900, \n",
    "              yaxis=dict(showgrid=False, showline=False, showticklabels=True,domain=[0,0.85],)\n",
    "             )\n",
    "\n",
    "fig = go.Figure(data=[trace])\n",
    "fig['layout'].update(layout)\n",
    "py.iplot(fig, filename='plots')"
   ]
  },
  {
   "cell_type": "code",
   "execution_count": null,
   "metadata": {
    "scrolled": true
   },
   "outputs": [],
   "source": [
    "print(\"Linear Regression\")\n",
    "LinearModel = LinearRegression().fit(inputs, targets)\n",
    "predict_train_y = LinearModel.predict(inputs)\n",
    "evaluateRegressor(targets, predict_train_y, \"    Training Set\")\n",
    "predict_valid_y = LinearModel.predict(test_inputs)\n",
    "evaluateRegressor(test_targets, predict_valid_y)\n",
    "predict_valid_y = sc.inverse_transform(predict_valid_y)\n",
    "evaluateRegressor(y_test, predict_valid_y,\"    Valid Set\")"
   ]
  },
  {
   "cell_type": "code",
   "execution_count": 13,
   "metadata": {},
   "outputs": [
    {
     "name": "stdout",
     "output_type": "stream",
     "text": [
      "Decision Tree\n",
      "    Training Set\n",
      "MSE : 0.2223926533893265\n",
      "MAE : 0.24638659536934124\n",
      "RMSE : 0.46414641759782815\n",
      "R-Squared : 0.7776073467945472\n",
      "    Test Set\n",
      "MSE : 0.2235142047447683\n",
      "MAE : 0.24802731326232327\n",
      "RMSE : 0.464792667453812\n",
      "R-Squared : 0.7781214025082306\n",
      "    Valid Set\n",
      "MSE : 31736.65249736671\n",
      "MAE : 53.14122115834918\n",
      "RMSE : 84.51813238257583\n",
      "R-Squared : 0.7781214034010702\n"
     ]
    }
   ],
   "source": [
    "print(\"Decision Tree\")\n",
    "DTModel = DecisionTreeRegressor().fit(inputs, targets)\n",
    "predict_train_y = DTModel.predict(inputs)\n",
    "evaluateRegressor(targets, predict_train_y, \"    Training Set\")\n",
    "predict_valid_y = DTModel.predict(test_inputs)\n",
    "evaluateRegressor(test_targets, predict_valid_y)\n",
    "predict_valid_y = sc.inverse_transform(predict_valid_y)\n",
    "evaluateRegressor(y_test, predict_valid_y,\"    Valid Set\")"
   ]
  },
  {
   "cell_type": "code",
   "execution_count": 13,
   "metadata": {},
   "outputs": [
    {
     "name": "stdout",
     "output_type": "stream",
     "text": [
      "K-Nearest Neighbors\n",
      "    Training Set\n",
      "MSE : 0.26929623\n",
      "MAE : 0.25620085\n",
      "RMSE : 0.510919\n",
      "R-Squared : 0.7306991709487931\n",
      "    Test Set\n",
      "MSE : 0.26129922\n",
      "MAE : 0.2561133\n",
      "RMSE : 0.50244135\n",
      "R-Squared : 0.7406224120824391\n",
      "    Valid Set\n",
      "MSE : 37700.429758644656\n",
      "MAE : 55.8117810817961\n",
      "RMSE : 92.01748304431183\n",
      "R-Squared : 0.7406224152103545\n"
     ]
    }
   ],
   "source": [
    "print(\"K-Nearest Neighbors\")\n",
    "KNNModel = KNeighborsRegressor().fit(inputs, targets)\n",
    "predict_train_y = KNNModel.predict(inputs)\n",
    "evaluateRegressor(targets, predict_train_y, \"    Training Set\")\n",
    "predict_valid_y = KNNModel.predict(test_inputs)\n",
    "evaluateRegressor(test_targets, predict_valid_y)\n",
    "predict_valid_y = sc.inverse_transform(predict_valid_y)\n",
    "evaluateRegressor(y_test, predict_valid_y,\"    Valid Set\")"
   ]
  },
  {
   "cell_type": "code",
   "execution_count": 14,
   "metadata": {},
   "outputs": [
    {
     "name": "stdout",
     "output_type": "stream",
     "text": [
      "Support Vector Machine - Direct Multioutput\n",
      "    Training Set\n",
      "MSE : 0.8309530346653832\n",
      "MAE : 0.5512184543843774\n",
      "RMSE : 0.9089808540222757\n",
      "R-Squared : 0.1690469621231045\n",
      "    Test Set\n",
      "MSE : 0.8366070094552469\n",
      "MAE : 0.554300332485741\n",
      "RMSE : 0.9124416249087732\n",
      "R-Squared : 0.1672620674897093\n",
      "    Valid Set\n",
      "MSE : 164104.89465884928\n",
      "MAE : 148.72528627686341\n",
      "RMSE : 191.8108825832216\n",
      "R-Squared : 0.16726206057462\n"
     ]
    }
   ],
   "source": [
    "print(\"Support Vector Machine - Direct Multioutput\")\n",
    "model = LinearSVR(C=0.1, random_state=1,max_iter=10000000)\n",
    "model = MultiOutputRegressor(model)\n",
    "model.fit(inputs, targets)\n",
    "predict_train_y = model.predict(inputs)\n",
    "evaluateRegressor(targets, predict_train_y, \"    Training Set\")\n",
    "predict_valid_y = model.predict(test_inputs)\n",
    "evaluateRegressor(test_targets, predict_valid_y)\n",
    "predict_valid_y = sc.inverse_transform(predict_valid_y)\n",
    "evaluateRegressor(y_test, predict_valid_y,\"    Valid Set\")"
   ]
  },
  {
   "cell_type": "code",
   "execution_count": 15,
   "metadata": {},
   "outputs": [
    {
     "name": "stdout",
     "output_type": "stream",
     "text": [
      "Support Vector Machine - Chained Multioutput\n",
      "    Training Set\n",
      "MSE : 0.8300299100200398\n",
      "MAE : 0.5522820189701337\n",
      "RMSE : 0.9083979399667689\n",
      "R-Squared : 0.16997008676515163\n",
      "    Test Set\n",
      "MSE : 0.8358087189462928\n",
      "MAE : 0.5552767597127879\n",
      "RMSE : 0.9119353709890075\n",
      "R-Squared : 0.16803217403089016\n",
      "    Valid Set\n",
      "MSE : 164104.8830685694\n",
      "MAE : 148.73224054428496\n",
      "RMSE : 191.80931817165316\n",
      "R-Squared : 0.1680321671489113\n"
     ]
    }
   ],
   "source": [
    "print(\"Support Vector Machine - Chained Multioutput\")\n",
    "model = LinearSVR(C=0.1, random_state=1,max_iter=10000000)\n",
    "model = RegressorChain(model)\n",
    "model.fit(inputs, targets)\n",
    "predict_train_y = model.predict(inputs)\n",
    "evaluateRegressor(targets, predict_train_y, \"    Training Set\")\n",
    "predict_valid_y = model.predict(test_inputs)\n",
    "evaluateRegressor(test_targets, predict_valid_y)\n",
    "predict_valid_y = sc.inverse_transform(predict_valid_y)\n",
    "evaluateRegressor(y_test, predict_valid_y,\"    Valid Set\")"
   ]
  },
  {
   "cell_type": "code",
   "execution_count": 14,
   "metadata": {},
   "outputs": [
    {
     "name": "stdout",
     "output_type": "stream",
     "text": [
      "112556/124615 data points remain.\n",
      "<class 'pandas.core.frame.DataFrame'>\n",
      "Int64Index: 111440 entries, 0 to 124614\n",
      "Data columns (total 20 columns):\n",
      " #   Column      Non-Null Count   Dtype  \n",
      "---  ------      --------------   -----  \n",
      " 0   co2         111440 non-null  int64  \n",
      " 1   temp        111440 non-null  float64\n",
      " 2   humid       111440 non-null  float64\n",
      " 3   csd         111440 non-null  int64  \n",
      " 4   sound       111440 non-null  int64  \n",
      " 5   state       111440 non-null  object \n",
      " 6   age         111440 non-null  int64  \n",
      " 7   gender      111440 non-null  object \n",
      " 8   height      111440 non-null  int64  \n",
      " 9   weight      111440 non-null  int64  \n",
      " 10  disease     111440 non-null  object \n",
      " 11  depressive  111440 non-null  int64  \n",
      " 12  disorder    111440 non-null  object \n",
      " 13  media       111440 non-null  int64  \n",
      " 14  liquor      111440 non-null  int64  \n",
      " 15  smoke       111440 non-null  int64  \n",
      " 16  caffeine    111440 non-null  int64  \n",
      " 17  exercise    111440 non-null  int64  \n",
      " 18  stress      111440 non-null  int64  \n",
      " 19  nap         111440 non-null  object \n",
      "dtypes: float64(2), int64(13), object(5)\n",
      "memory usage: 17.9+ MB\n"
     ]
    }
   ],
   "source": [
    "sample_data = pd.read_csv(\"sample.csv\")\n",
    "sample_data = remove_outliers(sample_data, \"co2\", 0.05, 0.95)\n",
    "idx_zero_temp = sample_data[sample_data['temp'] == 0].index\n",
    "sample_data = sample_data.drop(idx_zero_temp)\n",
    "idx_zero_temp = sample_data[sample_data['stress'] == -1].index\n",
    "sample_data = sample_data.drop(idx_zero_temp)\n",
    "sample_data.info(verbose=True, show_counts=True)\n",
    "\n",
    "sample_data = pd.get_dummies(sample_data)                       # Embedding\n",
    "x_data = sample_data.iloc[:, 5:]\n",
    "y_data = sample_data.iloc[:, [0, 1, 2, 3, 4]]\n",
    "x_train, x_test, y_train, y_test = train_test_split(x_data, y_data, test_size=0.1, random_state=42)\n",
    "# x_data.info(verbose=True, show_counts=True)\n",
    "\n",
    "sc_x = MinMaxScaler()\n",
    "sc_y = MinMaxScaler()\n",
    "x_train_scaled = sc_x.fit_transform(x_train)\n",
    "x_test_scaled = sc_x.transform(x_test)\n",
    "y_train_scaled = sc_y.fit_transform(y_train)\n",
    "y_test_scaled = sc_y.transform(y_test)\n",
    "\n",
    "x_train_scaled = np.array(x_train_scaled, dtype=np.float32)\n",
    "y_train_scaled = np.array(y_train_scaled, dtype=np.float32)\n",
    "x_test_scaled = np.array(x_test_scaled, dtype=np.float32)\n",
    "y_test_scaled = np.array(y_test_scaled, dtype=np.float32)\n",
    "\n",
    "inputs = x_train_scaled\n",
    "targets = y_train_scaled\n",
    "test_inputs = x_test_scaled\n",
    "test_targets = y_test_scaled\n"
   ]
  },
  {
   "cell_type": "code",
   "execution_count": 117,
   "metadata": {},
   "outputs": [
    {
     "name": "stdout",
     "output_type": "stream",
     "text": [
      "Linear Regression\n",
      "    Training Set\n",
      "MSE : 0.020501312\n",
      "MAE : 0.096236125\n",
      "RMSE : 0.12977155\n",
      "R-Squared : 0.23700155240632528\n",
      "    Test Set\n",
      "MSE : 0.020489972\n",
      "MAE : 0.09650255\n",
      "RMSE : 0.13006714\n",
      "R-Squared : 0.23473029753501082\n",
      "    Valid Set\n",
      "MSE : 160965.82336490118\n",
      "MAE : 151.87362707907093\n",
      "RMSE : 189.33706616109956\n",
      "R-Squared : 0.23473030276202983\n"
     ]
    }
   ],
   "source": [
    "print(\"Linear Regression\")\n",
    "LinearModel = LinearRegression().fit(inputs, targets)\n",
    "predict_train_y = LinearModel.predict(inputs)\n",
    "evaluateRegressor(targets, predict_train_y, \"    Training Set\")\n",
    "predict_valid_y = LinearModel.predict(test_inputs)\n",
    "evaluateRegressor(test_targets, predict_valid_y)\n",
    "predict_valid_y = sc_y.inverse_transform(predict_valid_y)\n",
    "evaluateRegressor(y_test, predict_valid_y,\"    Valid Set\")"
   ]
  },
  {
   "cell_type": "code",
   "execution_count": 15,
   "metadata": {},
   "outputs": [
    {
     "name": "stdout",
     "output_type": "stream",
     "text": [
      "Decision Tree\n",
      "    Training Set\n",
      "MSE : 0.00534427045615798\n",
      "MAE : 0.03908274385369785\n",
      "RMSE : 0.0679030561040054\n",
      "R-Squared : 0.7776073461816339\n",
      "    Test Set\n",
      "MSE : 0.005367163265596608\n",
      "MAE : 0.03938383199601976\n",
      "RMSE : 0.06802216098550301\n",
      "R-Squared : 0.7781214041498753\n",
      "    Valid Set\n",
      "MSE : 31736.652494908496\n",
      "MAE : 53.14122112611047\n",
      "RMSE : 84.51813238177401\n",
      "R-Squared : 0.7781214032566199\n"
     ]
    }
   ],
   "source": [
    "print(\"Decision Tree\")\n",
    "DTModel = DecisionTreeRegressor().fit(inputs, targets)\n",
    "predict_train_y = DTModel.predict(inputs)\n",
    "evaluateRegressor(targets, predict_train_y, \"    Training Set\")\n",
    "predict_valid_y = DTModel.predict(test_inputs)\n",
    "evaluateRegressor(test_targets, predict_valid_y)\n",
    "predict_valid_y = sc_y.inverse_transform(predict_valid_y)\n",
    "evaluateRegressor(y_test, predict_valid_y,\"    Valid Set\")"
   ]
  },
  {
   "cell_type": "code",
   "execution_count": null,
   "metadata": {},
   "outputs": [],
   "source": []
  },
  {
   "cell_type": "code",
   "execution_count": null,
   "metadata": {},
   "outputs": [],
   "source": []
  },
  {
   "cell_type": "code",
   "execution_count": null,
   "metadata": {},
   "outputs": [],
   "source": []
  },
  {
   "cell_type": "code",
   "execution_count": 33,
   "metadata": {},
   "outputs": [
    {
     "data": {
      "application/vnd.plotly.v1+json": {
       "config": {
        "linkText": "Export to plot.ly",
        "plotlyServerURL": "https://plot.ly",
        "showLink": false
       },
       "data": [
        {
         "marker": {
          "color": [
           0,
           0,
           0,
           0.00020716549953998564,
           0.0012275790253737247,
           0.0014702460147433068,
           0.0016521788272118045,
           0.006150900167638099,
           0.00723808743038212,
           0.010271537614208242,
           0.010742229675746734,
           0.028215514997258856,
           0.03166677787084757,
           0.039203266733534456,
           0.05781292394220188,
           0.06720043255114952,
           0.083522577033081,
           0.08370844701187932,
           0.12050565439251901,
           0.19095676565475217,
           0.25824771555793236
          ],
          "colorscale": [
           [
            0,
            "#440154"
           ],
           [
            0.1111111111111111,
            "#482878"
           ],
           [
            0.2222222222222222,
            "#3e4989"
           ],
           [
            0.3333333333333333,
            "#31688e"
           ],
           [
            0.4444444444444444,
            "#26828e"
           ],
           [
            0.5555555555555556,
            "#1f9e89"
           ],
           [
            0.6666666666666666,
            "#35b779"
           ],
           [
            0.7777777777777778,
            "#6ece58"
           ],
           [
            0.8888888888888888,
            "#b5de2b"
           ],
           [
            1,
            "#fde725"
           ]
          ],
          "reversescale": true
         },
         "name": "Decision Tree Feature importance",
         "orientation": "h",
         "type": "bar",
         "x": [
          0,
          0,
          0,
          0.00020716549953998564,
          0.0012275790253737247,
          0.0014702460147433068,
          0.0016521788272118045,
          0.006150900167638099,
          0.00723808743038212,
          0.010271537614208242,
          0.010742229675746734,
          0.028215514997258856,
          0.03166677787084757,
          0.039203266733534456,
          0.05781292394220188,
          0.06720043255114952,
          0.083522577033081,
          0.08370844701187932,
          0.12050565439251901,
          0.19095676565475217,
          0.25824771555793236
         ],
         "y": [
          "disease_hypertensive",
          "disease_mental",
          "gender_female",
          "disorder_no",
          "state_asleep",
          "disease_none",
          "state_awake",
          "smoke",
          "disorder_yes",
          "nap_yes",
          "gender_male",
          "nap_no",
          "media",
          "liquor",
          "exercise",
          "caffeine",
          "depressive",
          "height",
          "stress",
          "age",
          "weight"
         ]
        }
       ],
       "layout": {
        "height": 900,
        "template": {
         "data": {
          "bar": [
           {
            "error_x": {
             "color": "#2a3f5f"
            },
            "error_y": {
             "color": "#2a3f5f"
            },
            "marker": {
             "line": {
              "color": "#E5ECF6",
              "width": 0.5
             },
             "pattern": {
              "fillmode": "overlay",
              "size": 10,
              "solidity": 0.2
             }
            },
            "type": "bar"
           }
          ],
          "barpolar": [
           {
            "marker": {
             "line": {
              "color": "#E5ECF6",
              "width": 0.5
             },
             "pattern": {
              "fillmode": "overlay",
              "size": 10,
              "solidity": 0.2
             }
            },
            "type": "barpolar"
           }
          ],
          "carpet": [
           {
            "aaxis": {
             "endlinecolor": "#2a3f5f",
             "gridcolor": "white",
             "linecolor": "white",
             "minorgridcolor": "white",
             "startlinecolor": "#2a3f5f"
            },
            "baxis": {
             "endlinecolor": "#2a3f5f",
             "gridcolor": "white",
             "linecolor": "white",
             "minorgridcolor": "white",
             "startlinecolor": "#2a3f5f"
            },
            "type": "carpet"
           }
          ],
          "choropleth": [
           {
            "colorbar": {
             "outlinewidth": 0,
             "ticks": ""
            },
            "type": "choropleth"
           }
          ],
          "contour": [
           {
            "colorbar": {
             "outlinewidth": 0,
             "ticks": ""
            },
            "colorscale": [
             [
              0,
              "#0d0887"
             ],
             [
              0.1111111111111111,
              "#46039f"
             ],
             [
              0.2222222222222222,
              "#7201a8"
             ],
             [
              0.3333333333333333,
              "#9c179e"
             ],
             [
              0.4444444444444444,
              "#bd3786"
             ],
             [
              0.5555555555555556,
              "#d8576b"
             ],
             [
              0.6666666666666666,
              "#ed7953"
             ],
             [
              0.7777777777777778,
              "#fb9f3a"
             ],
             [
              0.8888888888888888,
              "#fdca26"
             ],
             [
              1,
              "#f0f921"
             ]
            ],
            "type": "contour"
           }
          ],
          "contourcarpet": [
           {
            "colorbar": {
             "outlinewidth": 0,
             "ticks": ""
            },
            "type": "contourcarpet"
           }
          ],
          "heatmap": [
           {
            "colorbar": {
             "outlinewidth": 0,
             "ticks": ""
            },
            "colorscale": [
             [
              0,
              "#0d0887"
             ],
             [
              0.1111111111111111,
              "#46039f"
             ],
             [
              0.2222222222222222,
              "#7201a8"
             ],
             [
              0.3333333333333333,
              "#9c179e"
             ],
             [
              0.4444444444444444,
              "#bd3786"
             ],
             [
              0.5555555555555556,
              "#d8576b"
             ],
             [
              0.6666666666666666,
              "#ed7953"
             ],
             [
              0.7777777777777778,
              "#fb9f3a"
             ],
             [
              0.8888888888888888,
              "#fdca26"
             ],
             [
              1,
              "#f0f921"
             ]
            ],
            "type": "heatmap"
           }
          ],
          "heatmapgl": [
           {
            "colorbar": {
             "outlinewidth": 0,
             "ticks": ""
            },
            "colorscale": [
             [
              0,
              "#0d0887"
             ],
             [
              0.1111111111111111,
              "#46039f"
             ],
             [
              0.2222222222222222,
              "#7201a8"
             ],
             [
              0.3333333333333333,
              "#9c179e"
             ],
             [
              0.4444444444444444,
              "#bd3786"
             ],
             [
              0.5555555555555556,
              "#d8576b"
             ],
             [
              0.6666666666666666,
              "#ed7953"
             ],
             [
              0.7777777777777778,
              "#fb9f3a"
             ],
             [
              0.8888888888888888,
              "#fdca26"
             ],
             [
              1,
              "#f0f921"
             ]
            ],
            "type": "heatmapgl"
           }
          ],
          "histogram": [
           {
            "marker": {
             "pattern": {
              "fillmode": "overlay",
              "size": 10,
              "solidity": 0.2
             }
            },
            "type": "histogram"
           }
          ],
          "histogram2d": [
           {
            "colorbar": {
             "outlinewidth": 0,
             "ticks": ""
            },
            "colorscale": [
             [
              0,
              "#0d0887"
             ],
             [
              0.1111111111111111,
              "#46039f"
             ],
             [
              0.2222222222222222,
              "#7201a8"
             ],
             [
              0.3333333333333333,
              "#9c179e"
             ],
             [
              0.4444444444444444,
              "#bd3786"
             ],
             [
              0.5555555555555556,
              "#d8576b"
             ],
             [
              0.6666666666666666,
              "#ed7953"
             ],
             [
              0.7777777777777778,
              "#fb9f3a"
             ],
             [
              0.8888888888888888,
              "#fdca26"
             ],
             [
              1,
              "#f0f921"
             ]
            ],
            "type": "histogram2d"
           }
          ],
          "histogram2dcontour": [
           {
            "colorbar": {
             "outlinewidth": 0,
             "ticks": ""
            },
            "colorscale": [
             [
              0,
              "#0d0887"
             ],
             [
              0.1111111111111111,
              "#46039f"
             ],
             [
              0.2222222222222222,
              "#7201a8"
             ],
             [
              0.3333333333333333,
              "#9c179e"
             ],
             [
              0.4444444444444444,
              "#bd3786"
             ],
             [
              0.5555555555555556,
              "#d8576b"
             ],
             [
              0.6666666666666666,
              "#ed7953"
             ],
             [
              0.7777777777777778,
              "#fb9f3a"
             ],
             [
              0.8888888888888888,
              "#fdca26"
             ],
             [
              1,
              "#f0f921"
             ]
            ],
            "type": "histogram2dcontour"
           }
          ],
          "mesh3d": [
           {
            "colorbar": {
             "outlinewidth": 0,
             "ticks": ""
            },
            "type": "mesh3d"
           }
          ],
          "parcoords": [
           {
            "line": {
             "colorbar": {
              "outlinewidth": 0,
              "ticks": ""
             }
            },
            "type": "parcoords"
           }
          ],
          "pie": [
           {
            "automargin": true,
            "type": "pie"
           }
          ],
          "scatter": [
           {
            "marker": {
             "colorbar": {
              "outlinewidth": 0,
              "ticks": ""
             }
            },
            "type": "scatter"
           }
          ],
          "scatter3d": [
           {
            "line": {
             "colorbar": {
              "outlinewidth": 0,
              "ticks": ""
             }
            },
            "marker": {
             "colorbar": {
              "outlinewidth": 0,
              "ticks": ""
             }
            },
            "type": "scatter3d"
           }
          ],
          "scattercarpet": [
           {
            "marker": {
             "colorbar": {
              "outlinewidth": 0,
              "ticks": ""
             }
            },
            "type": "scattercarpet"
           }
          ],
          "scattergeo": [
           {
            "marker": {
             "colorbar": {
              "outlinewidth": 0,
              "ticks": ""
             }
            },
            "type": "scattergeo"
           }
          ],
          "scattergl": [
           {
            "marker": {
             "colorbar": {
              "outlinewidth": 0,
              "ticks": ""
             }
            },
            "type": "scattergl"
           }
          ],
          "scattermapbox": [
           {
            "marker": {
             "colorbar": {
              "outlinewidth": 0,
              "ticks": ""
             }
            },
            "type": "scattermapbox"
           }
          ],
          "scatterpolar": [
           {
            "marker": {
             "colorbar": {
              "outlinewidth": 0,
              "ticks": ""
             }
            },
            "type": "scatterpolar"
           }
          ],
          "scatterpolargl": [
           {
            "marker": {
             "colorbar": {
              "outlinewidth": 0,
              "ticks": ""
             }
            },
            "type": "scatterpolargl"
           }
          ],
          "scatterternary": [
           {
            "marker": {
             "colorbar": {
              "outlinewidth": 0,
              "ticks": ""
             }
            },
            "type": "scatterternary"
           }
          ],
          "surface": [
           {
            "colorbar": {
             "outlinewidth": 0,
             "ticks": ""
            },
            "colorscale": [
             [
              0,
              "#0d0887"
             ],
             [
              0.1111111111111111,
              "#46039f"
             ],
             [
              0.2222222222222222,
              "#7201a8"
             ],
             [
              0.3333333333333333,
              "#9c179e"
             ],
             [
              0.4444444444444444,
              "#bd3786"
             ],
             [
              0.5555555555555556,
              "#d8576b"
             ],
             [
              0.6666666666666666,
              "#ed7953"
             ],
             [
              0.7777777777777778,
              "#fb9f3a"
             ],
             [
              0.8888888888888888,
              "#fdca26"
             ],
             [
              1,
              "#f0f921"
             ]
            ],
            "type": "surface"
           }
          ],
          "table": [
           {
            "cells": {
             "fill": {
              "color": "#EBF0F8"
             },
             "line": {
              "color": "white"
             }
            },
            "header": {
             "fill": {
              "color": "#C8D4E3"
             },
             "line": {
              "color": "white"
             }
            },
            "type": "table"
           }
          ]
         },
         "layout": {
          "annotationdefaults": {
           "arrowcolor": "#2a3f5f",
           "arrowhead": 0,
           "arrowwidth": 1
          },
          "autotypenumbers": "strict",
          "coloraxis": {
           "colorbar": {
            "outlinewidth": 0,
            "ticks": ""
           }
          },
          "colorscale": {
           "diverging": [
            [
             0,
             "#8e0152"
            ],
            [
             0.1,
             "#c51b7d"
            ],
            [
             0.2,
             "#de77ae"
            ],
            [
             0.3,
             "#f1b6da"
            ],
            [
             0.4,
             "#fde0ef"
            ],
            [
             0.5,
             "#f7f7f7"
            ],
            [
             0.6,
             "#e6f5d0"
            ],
            [
             0.7,
             "#b8e186"
            ],
            [
             0.8,
             "#7fbc41"
            ],
            [
             0.9,
             "#4d9221"
            ],
            [
             1,
             "#276419"
            ]
           ],
           "sequential": [
            [
             0,
             "#0d0887"
            ],
            [
             0.1111111111111111,
             "#46039f"
            ],
            [
             0.2222222222222222,
             "#7201a8"
            ],
            [
             0.3333333333333333,
             "#9c179e"
            ],
            [
             0.4444444444444444,
             "#bd3786"
            ],
            [
             0.5555555555555556,
             "#d8576b"
            ],
            [
             0.6666666666666666,
             "#ed7953"
            ],
            [
             0.7777777777777778,
             "#fb9f3a"
            ],
            [
             0.8888888888888888,
             "#fdca26"
            ],
            [
             1,
             "#f0f921"
            ]
           ],
           "sequentialminus": [
            [
             0,
             "#0d0887"
            ],
            [
             0.1111111111111111,
             "#46039f"
            ],
            [
             0.2222222222222222,
             "#7201a8"
            ],
            [
             0.3333333333333333,
             "#9c179e"
            ],
            [
             0.4444444444444444,
             "#bd3786"
            ],
            [
             0.5555555555555556,
             "#d8576b"
            ],
            [
             0.6666666666666666,
             "#ed7953"
            ],
            [
             0.7777777777777778,
             "#fb9f3a"
            ],
            [
             0.8888888888888888,
             "#fdca26"
            ],
            [
             1,
             "#f0f921"
            ]
           ]
          },
          "colorway": [
           "#636efa",
           "#EF553B",
           "#00cc96",
           "#ab63fa",
           "#FFA15A",
           "#19d3f3",
           "#FF6692",
           "#B6E880",
           "#FF97FF",
           "#FECB52"
          ],
          "font": {
           "color": "#2a3f5f"
          },
          "geo": {
           "bgcolor": "white",
           "lakecolor": "white",
           "landcolor": "#E5ECF6",
           "showlakes": true,
           "showland": true,
           "subunitcolor": "white"
          },
          "hoverlabel": {
           "align": "left"
          },
          "hovermode": "closest",
          "mapbox": {
           "style": "light"
          },
          "paper_bgcolor": "white",
          "plot_bgcolor": "#E5ECF6",
          "polar": {
           "angularaxis": {
            "gridcolor": "white",
            "linecolor": "white",
            "ticks": ""
           },
           "bgcolor": "#E5ECF6",
           "radialaxis": {
            "gridcolor": "white",
            "linecolor": "white",
            "ticks": ""
           }
          },
          "scene": {
           "xaxis": {
            "backgroundcolor": "#E5ECF6",
            "gridcolor": "white",
            "gridwidth": 2,
            "linecolor": "white",
            "showbackground": true,
            "ticks": "",
            "zerolinecolor": "white"
           },
           "yaxis": {
            "backgroundcolor": "#E5ECF6",
            "gridcolor": "white",
            "gridwidth": 2,
            "linecolor": "white",
            "showbackground": true,
            "ticks": "",
            "zerolinecolor": "white"
           },
           "zaxis": {
            "backgroundcolor": "#E5ECF6",
            "gridcolor": "white",
            "gridwidth": 2,
            "linecolor": "white",
            "showbackground": true,
            "ticks": "",
            "zerolinecolor": "white"
           }
          },
          "shapedefaults": {
           "line": {
            "color": "#2a3f5f"
           }
          },
          "ternary": {
           "aaxis": {
            "gridcolor": "white",
            "linecolor": "white",
            "ticks": ""
           },
           "baxis": {
            "gridcolor": "white",
            "linecolor": "white",
            "ticks": ""
           },
           "bgcolor": "#E5ECF6",
           "caxis": {
            "gridcolor": "white",
            "linecolor": "white",
            "ticks": ""
           }
          },
          "title": {
           "x": 0.05
          },
          "xaxis": {
           "automargin": true,
           "gridcolor": "white",
           "linecolor": "white",
           "ticks": "",
           "title": {
            "standoff": 15
           },
           "zerolinecolor": "white",
           "zerolinewidth": 2
          },
          "yaxis": {
           "automargin": true,
           "gridcolor": "white",
           "linecolor": "white",
           "ticks": "",
           "title": {
            "standoff": 15
           },
           "zerolinecolor": "white",
           "zerolinewidth": 2
          }
         }
        },
        "title": {
         "text": "Feature Importance"
        },
        "width": 900,
        "yaxis": {
         "domain": [
          0,
          0.85
         ],
         "showgrid": false,
         "showline": false,
         "showticklabels": true
        }
       }
      },
      "text/html": [
       "<div>                            <div id=\"5fb452be-b911-443d-9421-a46d32195ff7\" class=\"plotly-graph-div\" style=\"height:900px; width:900px;\"></div>            <script type=\"text/javascript\">                require([\"plotly\"], function(Plotly) {                    window.PLOTLYENV=window.PLOTLYENV || {};                                    if (document.getElementById(\"5fb452be-b911-443d-9421-a46d32195ff7\")) {                    Plotly.newPlot(                        \"5fb452be-b911-443d-9421-a46d32195ff7\",                        [{\"marker\":{\"color\":[0.0,0.0,0.0,0.00020716549953998564,0.0012275790253737247,0.0014702460147433068,0.0016521788272118045,0.006150900167638099,0.00723808743038212,0.010271537614208242,0.010742229675746734,0.028215514997258856,0.03166677787084757,0.039203266733534456,0.05781292394220188,0.06720043255114952,0.083522577033081,0.08370844701187932,0.12050565439251901,0.19095676565475217,0.25824771555793236],\"colorscale\":[[0.0,\"#440154\"],[0.1111111111111111,\"#482878\"],[0.2222222222222222,\"#3e4989\"],[0.3333333333333333,\"#31688e\"],[0.4444444444444444,\"#26828e\"],[0.5555555555555556,\"#1f9e89\"],[0.6666666666666666,\"#35b779\"],[0.7777777777777778,\"#6ece58\"],[0.8888888888888888,\"#b5de2b\"],[1.0,\"#fde725\"]],\"reversescale\":true},\"name\":\"Decision Tree Feature importance\",\"orientation\":\"h\",\"type\":\"bar\",\"x\":[0.0,0.0,0.0,0.00020716549953998564,0.0012275790253737247,0.0014702460147433068,0.0016521788272118045,0.006150900167638099,0.00723808743038212,0.010271537614208242,0.010742229675746734,0.028215514997258856,0.03166677787084757,0.039203266733534456,0.05781292394220188,0.06720043255114952,0.083522577033081,0.08370844701187932,0.12050565439251901,0.19095676565475217,0.25824771555793236],\"y\":[\"disease_hypertensive\",\"disease_mental\",\"gender_female\",\"disorder_no\",\"state_asleep\",\"disease_none\",\"state_awake\",\"smoke\",\"disorder_yes\",\"nap_yes\",\"gender_male\",\"nap_no\",\"media\",\"liquor\",\"exercise\",\"caffeine\",\"depressive\",\"height\",\"stress\",\"age\",\"weight\"]}],                        {\"height\":900,\"template\":{\"data\":{\"bar\":[{\"error_x\":{\"color\":\"#2a3f5f\"},\"error_y\":{\"color\":\"#2a3f5f\"},\"marker\":{\"line\":{\"color\":\"#E5ECF6\",\"width\":0.5},\"pattern\":{\"fillmode\":\"overlay\",\"size\":10,\"solidity\":0.2}},\"type\":\"bar\"}],\"barpolar\":[{\"marker\":{\"line\":{\"color\":\"#E5ECF6\",\"width\":0.5},\"pattern\":{\"fillmode\":\"overlay\",\"size\":10,\"solidity\":0.2}},\"type\":\"barpolar\"}],\"carpet\":[{\"aaxis\":{\"endlinecolor\":\"#2a3f5f\",\"gridcolor\":\"white\",\"linecolor\":\"white\",\"minorgridcolor\":\"white\",\"startlinecolor\":\"#2a3f5f\"},\"baxis\":{\"endlinecolor\":\"#2a3f5f\",\"gridcolor\":\"white\",\"linecolor\":\"white\",\"minorgridcolor\":\"white\",\"startlinecolor\":\"#2a3f5f\"},\"type\":\"carpet\"}],\"choropleth\":[{\"colorbar\":{\"outlinewidth\":0,\"ticks\":\"\"},\"type\":\"choropleth\"}],\"contour\":[{\"colorbar\":{\"outlinewidth\":0,\"ticks\":\"\"},\"colorscale\":[[0.0,\"#0d0887\"],[0.1111111111111111,\"#46039f\"],[0.2222222222222222,\"#7201a8\"],[0.3333333333333333,\"#9c179e\"],[0.4444444444444444,\"#bd3786\"],[0.5555555555555556,\"#d8576b\"],[0.6666666666666666,\"#ed7953\"],[0.7777777777777778,\"#fb9f3a\"],[0.8888888888888888,\"#fdca26\"],[1.0,\"#f0f921\"]],\"type\":\"contour\"}],\"contourcarpet\":[{\"colorbar\":{\"outlinewidth\":0,\"ticks\":\"\"},\"type\":\"contourcarpet\"}],\"heatmap\":[{\"colorbar\":{\"outlinewidth\":0,\"ticks\":\"\"},\"colorscale\":[[0.0,\"#0d0887\"],[0.1111111111111111,\"#46039f\"],[0.2222222222222222,\"#7201a8\"],[0.3333333333333333,\"#9c179e\"],[0.4444444444444444,\"#bd3786\"],[0.5555555555555556,\"#d8576b\"],[0.6666666666666666,\"#ed7953\"],[0.7777777777777778,\"#fb9f3a\"],[0.8888888888888888,\"#fdca26\"],[1.0,\"#f0f921\"]],\"type\":\"heatmap\"}],\"heatmapgl\":[{\"colorbar\":{\"outlinewidth\":0,\"ticks\":\"\"},\"colorscale\":[[0.0,\"#0d0887\"],[0.1111111111111111,\"#46039f\"],[0.2222222222222222,\"#7201a8\"],[0.3333333333333333,\"#9c179e\"],[0.4444444444444444,\"#bd3786\"],[0.5555555555555556,\"#d8576b\"],[0.6666666666666666,\"#ed7953\"],[0.7777777777777778,\"#fb9f3a\"],[0.8888888888888888,\"#fdca26\"],[1.0,\"#f0f921\"]],\"type\":\"heatmapgl\"}],\"histogram\":[{\"marker\":{\"pattern\":{\"fillmode\":\"overlay\",\"size\":10,\"solidity\":0.2}},\"type\":\"histogram\"}],\"histogram2d\":[{\"colorbar\":{\"outlinewidth\":0,\"ticks\":\"\"},\"colorscale\":[[0.0,\"#0d0887\"],[0.1111111111111111,\"#46039f\"],[0.2222222222222222,\"#7201a8\"],[0.3333333333333333,\"#9c179e\"],[0.4444444444444444,\"#bd3786\"],[0.5555555555555556,\"#d8576b\"],[0.6666666666666666,\"#ed7953\"],[0.7777777777777778,\"#fb9f3a\"],[0.8888888888888888,\"#fdca26\"],[1.0,\"#f0f921\"]],\"type\":\"histogram2d\"}],\"histogram2dcontour\":[{\"colorbar\":{\"outlinewidth\":0,\"ticks\":\"\"},\"colorscale\":[[0.0,\"#0d0887\"],[0.1111111111111111,\"#46039f\"],[0.2222222222222222,\"#7201a8\"],[0.3333333333333333,\"#9c179e\"],[0.4444444444444444,\"#bd3786\"],[0.5555555555555556,\"#d8576b\"],[0.6666666666666666,\"#ed7953\"],[0.7777777777777778,\"#fb9f3a\"],[0.8888888888888888,\"#fdca26\"],[1.0,\"#f0f921\"]],\"type\":\"histogram2dcontour\"}],\"mesh3d\":[{\"colorbar\":{\"outlinewidth\":0,\"ticks\":\"\"},\"type\":\"mesh3d\"}],\"parcoords\":[{\"line\":{\"colorbar\":{\"outlinewidth\":0,\"ticks\":\"\"}},\"type\":\"parcoords\"}],\"pie\":[{\"automargin\":true,\"type\":\"pie\"}],\"scatter\":[{\"marker\":{\"colorbar\":{\"outlinewidth\":0,\"ticks\":\"\"}},\"type\":\"scatter\"}],\"scatter3d\":[{\"line\":{\"colorbar\":{\"outlinewidth\":0,\"ticks\":\"\"}},\"marker\":{\"colorbar\":{\"outlinewidth\":0,\"ticks\":\"\"}},\"type\":\"scatter3d\"}],\"scattercarpet\":[{\"marker\":{\"colorbar\":{\"outlinewidth\":0,\"ticks\":\"\"}},\"type\":\"scattercarpet\"}],\"scattergeo\":[{\"marker\":{\"colorbar\":{\"outlinewidth\":0,\"ticks\":\"\"}},\"type\":\"scattergeo\"}],\"scattergl\":[{\"marker\":{\"colorbar\":{\"outlinewidth\":0,\"ticks\":\"\"}},\"type\":\"scattergl\"}],\"scattermapbox\":[{\"marker\":{\"colorbar\":{\"outlinewidth\":0,\"ticks\":\"\"}},\"type\":\"scattermapbox\"}],\"scatterpolar\":[{\"marker\":{\"colorbar\":{\"outlinewidth\":0,\"ticks\":\"\"}},\"type\":\"scatterpolar\"}],\"scatterpolargl\":[{\"marker\":{\"colorbar\":{\"outlinewidth\":0,\"ticks\":\"\"}},\"type\":\"scatterpolargl\"}],\"scatterternary\":[{\"marker\":{\"colorbar\":{\"outlinewidth\":0,\"ticks\":\"\"}},\"type\":\"scatterternary\"}],\"surface\":[{\"colorbar\":{\"outlinewidth\":0,\"ticks\":\"\"},\"colorscale\":[[0.0,\"#0d0887\"],[0.1111111111111111,\"#46039f\"],[0.2222222222222222,\"#7201a8\"],[0.3333333333333333,\"#9c179e\"],[0.4444444444444444,\"#bd3786\"],[0.5555555555555556,\"#d8576b\"],[0.6666666666666666,\"#ed7953\"],[0.7777777777777778,\"#fb9f3a\"],[0.8888888888888888,\"#fdca26\"],[1.0,\"#f0f921\"]],\"type\":\"surface\"}],\"table\":[{\"cells\":{\"fill\":{\"color\":\"#EBF0F8\"},\"line\":{\"color\":\"white\"}},\"header\":{\"fill\":{\"color\":\"#C8D4E3\"},\"line\":{\"color\":\"white\"}},\"type\":\"table\"}]},\"layout\":{\"annotationdefaults\":{\"arrowcolor\":\"#2a3f5f\",\"arrowhead\":0,\"arrowwidth\":1},\"autotypenumbers\":\"strict\",\"coloraxis\":{\"colorbar\":{\"outlinewidth\":0,\"ticks\":\"\"}},\"colorscale\":{\"diverging\":[[0,\"#8e0152\"],[0.1,\"#c51b7d\"],[0.2,\"#de77ae\"],[0.3,\"#f1b6da\"],[0.4,\"#fde0ef\"],[0.5,\"#f7f7f7\"],[0.6,\"#e6f5d0\"],[0.7,\"#b8e186\"],[0.8,\"#7fbc41\"],[0.9,\"#4d9221\"],[1,\"#276419\"]],\"sequential\":[[0.0,\"#0d0887\"],[0.1111111111111111,\"#46039f\"],[0.2222222222222222,\"#7201a8\"],[0.3333333333333333,\"#9c179e\"],[0.4444444444444444,\"#bd3786\"],[0.5555555555555556,\"#d8576b\"],[0.6666666666666666,\"#ed7953\"],[0.7777777777777778,\"#fb9f3a\"],[0.8888888888888888,\"#fdca26\"],[1.0,\"#f0f921\"]],\"sequentialminus\":[[0.0,\"#0d0887\"],[0.1111111111111111,\"#46039f\"],[0.2222222222222222,\"#7201a8\"],[0.3333333333333333,\"#9c179e\"],[0.4444444444444444,\"#bd3786\"],[0.5555555555555556,\"#d8576b\"],[0.6666666666666666,\"#ed7953\"],[0.7777777777777778,\"#fb9f3a\"],[0.8888888888888888,\"#fdca26\"],[1.0,\"#f0f921\"]]},\"colorway\":[\"#636efa\",\"#EF553B\",\"#00cc96\",\"#ab63fa\",\"#FFA15A\",\"#19d3f3\",\"#FF6692\",\"#B6E880\",\"#FF97FF\",\"#FECB52\"],\"font\":{\"color\":\"#2a3f5f\"},\"geo\":{\"bgcolor\":\"white\",\"lakecolor\":\"white\",\"landcolor\":\"#E5ECF6\",\"showlakes\":true,\"showland\":true,\"subunitcolor\":\"white\"},\"hoverlabel\":{\"align\":\"left\"},\"hovermode\":\"closest\",\"mapbox\":{\"style\":\"light\"},\"paper_bgcolor\":\"white\",\"plot_bgcolor\":\"#E5ECF6\",\"polar\":{\"angularaxis\":{\"gridcolor\":\"white\",\"linecolor\":\"white\",\"ticks\":\"\"},\"bgcolor\":\"#E5ECF6\",\"radialaxis\":{\"gridcolor\":\"white\",\"linecolor\":\"white\",\"ticks\":\"\"}},\"scene\":{\"xaxis\":{\"backgroundcolor\":\"#E5ECF6\",\"gridcolor\":\"white\",\"gridwidth\":2,\"linecolor\":\"white\",\"showbackground\":true,\"ticks\":\"\",\"zerolinecolor\":\"white\"},\"yaxis\":{\"backgroundcolor\":\"#E5ECF6\",\"gridcolor\":\"white\",\"gridwidth\":2,\"linecolor\":\"white\",\"showbackground\":true,\"ticks\":\"\",\"zerolinecolor\":\"white\"},\"zaxis\":{\"backgroundcolor\":\"#E5ECF6\",\"gridcolor\":\"white\",\"gridwidth\":2,\"linecolor\":\"white\",\"showbackground\":true,\"ticks\":\"\",\"zerolinecolor\":\"white\"}},\"shapedefaults\":{\"line\":{\"color\":\"#2a3f5f\"}},\"ternary\":{\"aaxis\":{\"gridcolor\":\"white\",\"linecolor\":\"white\",\"ticks\":\"\"},\"baxis\":{\"gridcolor\":\"white\",\"linecolor\":\"white\",\"ticks\":\"\"},\"bgcolor\":\"#E5ECF6\",\"caxis\":{\"gridcolor\":\"white\",\"linecolor\":\"white\",\"ticks\":\"\"}},\"title\":{\"x\":0.05},\"xaxis\":{\"automargin\":true,\"gridcolor\":\"white\",\"linecolor\":\"white\",\"ticks\":\"\",\"title\":{\"standoff\":15},\"zerolinecolor\":\"white\",\"zerolinewidth\":2},\"yaxis\":{\"automargin\":true,\"gridcolor\":\"white\",\"linecolor\":\"white\",\"ticks\":\"\",\"title\":{\"standoff\":15},\"zerolinecolor\":\"white\",\"zerolinewidth\":2}}},\"title\":{\"text\":\"Feature Importance\"},\"width\":900,\"yaxis\":{\"domain\":[0,0.85],\"showgrid\":false,\"showline\":false,\"showticklabels\":true}},                        {\"responsive\": true}                    ).then(function(){\n",
       "                            \n",
       "var gd = document.getElementById('5fb452be-b911-443d-9421-a46d32195ff7');\n",
       "var x = new MutationObserver(function (mutations, observer) {{\n",
       "        var display = window.getComputedStyle(gd).display;\n",
       "        if (!display || display === 'none') {{\n",
       "            console.log([gd, 'removed!']);\n",
       "            Plotly.purge(gd);\n",
       "            observer.disconnect();\n",
       "        }}\n",
       "}});\n",
       "\n",
       "// Listen for the removal of the full notebook cells\n",
       "var notebookContainer = gd.closest('#notebook-container');\n",
       "if (notebookContainer) {{\n",
       "    x.observe(notebookContainer, {childList: true});\n",
       "}}\n",
       "\n",
       "// Listen for the clearing of the current output cell\n",
       "var outputEl = gd.closest('.output');\n",
       "if (outputEl) {{\n",
       "    x.observe(outputEl, {childList: true});\n",
       "}}\n",
       "\n",
       "                        })                };                });            </script>        </div>"
      ]
     },
     "metadata": {},
     "output_type": "display_data"
    }
   ],
   "source": [
    "features = x_train.columns.values\n",
    "x, y = (list(x) for x in zip(*sorted(zip(DTModel.feature_importances_, features),reverse=False)) )\n",
    "\n",
    "trace = go.Bar(x=x,y=y,\n",
    "              marker=dict(\n",
    "              color=x,\n",
    "              colorscale = 'Viridis',\n",
    "              reversescale = True),\n",
    "              name = 'Decision Tree Feature importance',\n",
    "              orientation='h',\n",
    "              )\n",
    "layout = dict(title='Feature Importance', \n",
    "              width = 900, \n",
    "              height = 900, \n",
    "              yaxis=dict(showgrid=False, showline=False, showticklabels=True,domain=[0,0.85],)\n",
    "             )\n",
    "\n",
    "fig = go.Figure(data=[trace])\n",
    "fig['layout'].update(layout)\n",
    "py.iplot(fig, filename='plots')"
   ]
  },
  {
   "cell_type": "code",
   "execution_count": 27,
   "metadata": {},
   "outputs": [
    {
     "name": "stdout",
     "output_type": "stream",
     "text": [
      "K-Nearest Neighbors\n",
      "    Training Set\n",
      "MSE : 0.0034465645\n",
      "MAE : 0.029542621\n",
      "RMSE : 0.053878594\n",
      "R-Squared : 0.7339901165115871\n",
      "    Test Set\n",
      "MSE : 0.0034578845\n",
      "MAE : 0.029620945\n",
      "RMSE : 0.05406647\n",
      "R-Squared : 0.7331042936051652\n",
      "    Valid Set\n",
      "MSE : 36899.42969971419\n",
      "MAE : 55.505192602944305\n",
      "RMSE : 91.08390186066579\n",
      "R-Squared : 0.7331042995847353\n"
     ]
    }
   ],
   "source": [
    "print(\"K-Nearest Neighbors\")\n",
    "KNNModel = KNeighborsRegressor().fit(inputs, targets)\n",
    "predict_train_y = KNNModel.predict(inputs)\n",
    "evaluateRegressor(targets, predict_train_y, \"    Training Set\")\n",
    "predict_valid_y = KNNModel.predict(test_inputs)\n",
    "evaluateRegressor(test_targets, predict_valid_y)\n",
    "predict_valid_y = sc.inverse_transform(predict_valid_y)\n",
    "evaluateRegressor(y_test, predict_valid_y,\"    Valid Set\")"
   ]
  },
  {
   "cell_type": "code",
   "execution_count": 28,
   "metadata": {},
   "outputs": [
    {
     "name": "stdout",
     "output_type": "stream",
     "text": [
      "Random Forest Regressor\n",
      "    Training Set\n",
      "MSE : 0.002904936435404841\n",
      "MAE : 0.02792942514787894\n",
      "RMSE : 0.04947548399535896\n",
      "R-Squared : 0.7775956652271497\n",
      "    Test Set\n",
      "MSE : 0.002914134912559272\n",
      "MAE : 0.028140308815782465\n",
      "RMSE : 0.049532564774521434\n",
      "R-Squared : 0.7781252670702166\n",
      "    Valid Set\n",
      "MSE : 31743.397420131612\n",
      "MAE : 53.15134694743362\n",
      "RMSE : 84.52600069028708\n",
      "R-Squared : 0.7781252707405482\n"
     ]
    }
   ],
   "source": [
    "print(\"Random Forest Regressor\")\n",
    "RFRegModel = RandomForestRegressor(random_state=0).fit(inputs, targets)\n",
    "predict_train_y = RFRegModel.predict(inputs)\n",
    "evaluateRegressor(targets, predict_train_y, \"    Training Set\")\n",
    "predict_valid_y = RFRegModel.predict(test_inputs)\n",
    "evaluateRegressor(test_targets, predict_valid_y)\n",
    "predict_valid_y = sc.inverse_transform(predict_valid_y)\n",
    "evaluateRegressor(y_test, predict_valid_y,\"    Valid Set\")"
   ]
  },
  {
   "cell_type": "code",
   "execution_count": 29,
   "metadata": {},
   "outputs": [
    {
     "name": "stdout",
     "output_type": "stream",
     "text": [
      "Support Vector Machine - Direct Multioutput\n",
      "    Training Set\n",
      "MSE : 0.012394242337778968\n",
      "MAE : 0.06616696753394938\n",
      "RMSE : 0.0992998425119185\n",
      "R-Squared : 0.16934442929508925\n",
      "    Test Set\n",
      "MSE : 0.012328847264055079\n",
      "MAE : 0.0662484071726479\n",
      "RMSE : 0.0993777924370641\n",
      "R-Squared : 0.16756093785217258\n",
      "    Valid Set\n",
      "MSE : 163551.69235195572\n",
      "MAE : 148.7393295834323\n",
      "RMSE : 191.5058606510473\n",
      "R-Squared : 0.16756093801931157\n"
     ]
    }
   ],
   "source": [
    "print(\"Support Vector Machine - Direct Multioutput\")\n",
    "model = LinearSVR(C=0.1, random_state=1,max_iter=10000000)\n",
    "model = MultiOutputRegressor(model)\n",
    "model.fit(inputs, targets)\n",
    "predict_train_y = model.predict(inputs)\n",
    "evaluateRegressor(targets, predict_train_y, \"    Training Set\")\n",
    "predict_valid_y = model.predict(test_inputs)\n",
    "evaluateRegressor(test_targets, predict_valid_y)\n",
    "predict_valid_y = sc.inverse_transform(predict_valid_y)\n",
    "evaluateRegressor(y_test, predict_valid_y,\"    Valid Set\")"
   ]
  },
  {
   "cell_type": "code",
   "execution_count": 30,
   "metadata": {},
   "outputs": [
    {
     "name": "stdout",
     "output_type": "stream",
     "text": [
      "Support Vector Machine - Chained Multioutput\n",
      "    Training Set\n",
      "MSE : 0.012390157484789395\n",
      "MAE : 0.06625819648967013\n",
      "RMSE : 0.09925848496281639\n",
      "R-Squared : 0.1703509643295721\n",
      "    Test Set\n",
      "MSE : 0.012325976933494966\n",
      "MAE : 0.06633153630799898\n",
      "RMSE : 0.09934416963048044\n",
      "R-Squared : 0.1684006738168062\n",
      "    Valid Set\n",
      "MSE : 163551.695605601\n",
      "MAE : 148.74555857726932\n",
      "RMSE : 191.50499992606788\n",
      "R-Squared : 0.16840067356594526\n"
     ]
    }
   ],
   "source": [
    "print(\"Support Vector Machine - Chained Multioutput\")\n",
    "model = LinearSVR(C=0.1, random_state=1,max_iter=10000000)\n",
    "model = RegressorChain(model)\n",
    "model.fit(inputs, targets)\n",
    "predict_train_y = model.predict(inputs)\n",
    "evaluateRegressor(targets, predict_train_y, \"    Training Set\")\n",
    "predict_valid_y = model.predict(test_inputs)\n",
    "evaluateRegressor(test_targets, predict_valid_y)\n",
    "predict_valid_y = sc.inverse_transform(predict_valid_y)\n",
    "evaluateRegressor(y_test, predict_valid_y,\"    Valid Set\")"
   ]
  },
  {
   "cell_type": "code",
   "execution_count": 22,
   "metadata": {},
   "outputs": [],
   "source": [
    "def predictEnvironment(model):\n",
    "    people_data = pd.read_csv(\"real_validation.csv\")\n",
    "    print(\" -- Input Raw Data -- \")\n",
    "    print(people_data.iloc[:,5:])\n",
    "    \n",
    "    input_raw_data = pd.get_dummies(people_data)            # 임베딩\n",
    "    input_raw_data = input_raw_data .iloc[:, 5:]            # 환경 데이터 제거\n",
    "    input_raw_data.to_csv('real_input.csv', index=False)\n",
    "    # scaler = MinMaxScaler()                                 # Scale Method\n",
    "    input_data = sc_x.fit_transform(input_raw_data)       # 입력 값 설정\n",
    "    input_data = np.array(input_data, dtype=np.float32)\n",
    "    \n",
    "    output_data = model.predict(input_data)             # 최적 수면 환경 예측\n",
    "    output_data = sc_y.inverse_transform(output_data)\n",
    "    print(\" -- 최적 수면 환경 조언 (마지막은 2개는 더미) -- \")\n",
    "    print(\"CO2농도  /  온도  /  습도  /  조도  /  소음\")\n",
    "    np.set_printoptions(precision=2, suppress=True)\n",
    "    print(np.round(output_data,2))\n",
    "    "
   ]
  },
  {
   "cell_type": "code",
   "execution_count": 23,
   "metadata": {},
   "outputs": [
    {
     "name": "stdout",
     "output_type": "stream",
     "text": [
      " -- Input Raw Data -- \n",
      "     state  age  gender  height  weight       disease  depressive disorder  \\\n",
      "0   asleep   29    male     171      65          none           0       no   \n",
      "1   asleep   28    male     170      70          none           0      yes   \n",
      "2   asleep   28    male     172      67          none           0       no   \n",
      "3   asleep   29    male     175      65          none           0       no   \n",
      "4   asleep   28  female     158      45          none           3      yes   \n",
      "5   asleep   27    male     175      75          none           0       no   \n",
      "6   asleep   30    male     174      83          none           0      yes   \n",
      "7   asleep   31  female     161      63          none           1      yes   \n",
      "8   asleep   30    male     163      68          none           0       no   \n",
      "9   asleep   42    male     175      95          none           0       no   \n",
      "10  asleep   33  female     168      60          none           1       no   \n",
      "11  asleep   31  female     170      78          none           1       no   \n",
      "12  asleep   34    male     178      78          none           0       no   \n",
      "13  asleep   58    male     170      60          none           1       no   \n",
      "14  asleep   35  female     163      60          none           4      yes   \n",
      "15   awake   10    male     100      10  hypertensive           1       no   \n",
      "16   awake   10    male     100      10        mental           1       no   \n",
      "\n",
      "    media  liquor  smoke  caffeine  exercise  stress  nap  \n",
      "0      90       0      0       189        15       2   no  \n",
      "1      90       0      0         0        45       1   no  \n",
      "2      45       0      0       189         0       1   no  \n",
      "3      45       0      0       189         0       4   no  \n",
      "4     210       0      0         0         0       1   no  \n",
      "5      90       0      0       189        45       0   no  \n",
      "6      45       0      0         0        45       0   no  \n",
      "7     150       0      0         0         0       3   no  \n",
      "8      45       0      0         0        15       4  yes  \n",
      "9      45       0      0       189         0       1   no  \n",
      "10    210       0      0       189         0       4   no  \n",
      "11     45      14      0       189         0       4   no  \n",
      "12     90      14     22       189         0       0   no  \n",
      "13    150       0      0         0        90       2   no  \n",
      "14     90       0      0       189        15       3   no  \n",
      "15    100      10     10        10        10       1  yes  \n",
      "16    100      10     10        10        10       1  yes  \n",
      " -- 최적 수면 환경 조언 (마지막은 2개는 더미) -- \n",
      "CO2농도  /  온도  /  습도  /  조도  /  소음\n",
      "[[2858.69   22.5    61.97    0.     33.6 ]\n",
      " [2858.69   22.5    61.97    0.     33.6 ]\n",
      " [2858.69   22.5    61.97    0.     33.6 ]\n",
      " [2858.69   22.5    61.97    0.     33.6 ]\n",
      " [2193.12   27.11   45.37    0.48   35.04]\n",
      " [4419.24   26.68   59.63    0.     37.07]\n",
      " [4419.24   26.68   59.63    0.     37.07]\n",
      " [3084.05   24.21   47.98    0.     30.86]\n",
      " [2858.69   22.5    61.97    0.     33.6 ]\n",
      " [3971.67   26.73   65.47    0.06   35.38]\n",
      " [3084.05   24.21   47.98    0.     30.86]\n",
      " [2718.72   23.89   46.75    0.43   32.86]\n",
      " [3971.67   26.73   65.47    0.06   35.38]\n",
      " [3729.67   25.48   56.06    0.     35.12]\n",
      " [3084.05   24.21   47.98    0.     30.86]\n",
      " [4170.     25.55   59.22    0.29   31.71]\n",
      " [4170.     25.55   59.22    0.29   31.71]]\n"
     ]
    }
   ],
   "source": [
    "predictEnvironment(DTModel)"
   ]
  },
  {
   "cell_type": "code",
   "execution_count": null,
   "metadata": {},
   "outputs": [],
   "source": []
  }
 ],
 "metadata": {
  "kernelspec": {
   "display_name": "Python 3",
   "language": "python",
   "name": "python3"
  },
  "language_info": {
   "codemirror_mode": {
    "name": "ipython",
    "version": 3
   },
   "file_extension": ".py",
   "mimetype": "text/x-python",
   "name": "python",
   "nbconvert_exporter": "python",
   "pygments_lexer": "ipython3",
   "version": "3.7.9"
  }
 },
 "nbformat": 4,
 "nbformat_minor": 4
}
